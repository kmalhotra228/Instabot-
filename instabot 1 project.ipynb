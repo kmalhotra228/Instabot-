{
 "cells": [
  {
   "cell_type": "markdown",
   "id": "40826908",
   "metadata": {},
   "source": [
    "# Instructions\n",
    "1) Add your username and password before running the code.\n",
    "2) Run the all the code in one go.\n",
    "3) Add your webdriver path before running the code.\n",
    "4) It take time so sit back and relax."
   ]
  },
  {
   "cell_type": "markdown",
   "id": "4546db77",
   "metadata": {},
   "source": [
    "# Importing all important libraries"
   ]
  },
  {
   "cell_type": "code",
   "execution_count": 221,
   "id": "ac5b8c8c",
   "metadata": {},
   "outputs": [],
   "source": [
    "from selenium import webdriver\n",
    "from selenium.webdriver.common.keys import Keys\n",
    "import time\n",
    "from selenium.common.exceptions import NoSuchElementException\n",
    "from selenium.common.exceptions import ElementNotInteractableException\n",
    "from selenium.common.exceptions import StaleElementReferenceException\n",
    "from selenium.common.exceptions import TimeoutException\n",
    "from selenium.webdriver.support.ui import WebDriverWait\n",
    "from selenium.webdriver.support import expected_conditions as EC\n",
    "from selenium.webdriver.common.by import By\n",
    "from selenium.webdriver.support.select import Select"
   ]
  },
  {
   "cell_type": "markdown",
   "id": "c4c98f31",
   "metadata": {},
   "source": [
    "# Open Chrome Webdriver"
   ]
  },
  {
   "cell_type": "code",
   "execution_count": 222,
   "id": "9d888df6",
   "metadata": {},
   "outputs": [],
   "source": [
    "# ***********open the webdriver through these commands***********\n",
    "from selenium.webdriver.chrome.service import Service\n",
    "s = Service('/Users/ADMIN/.wdm/drivers/chromedriver/win32/95.0.4638.69/chromedriver.exe')\n",
    "driver = webdriver.Chrome(service = s)\n",
    "# you can add your web driver location"
   ]
  },
  {
   "cell_type": "markdown",
   "id": "12704442",
   "metadata": {},
   "source": [
    "# Visit Instagram "
   ]
  },
  {
   "cell_type": "code",
   "execution_count": 223,
   "id": "0b05bc00",
   "metadata": {},
   "outputs": [],
   "source": [
    "driver.get(\"https://www.instagram.com/\")\n",
    "driver.maximize_window()\n",
    "waiter = WebDriverWait(driver,10).until(EC.presence_of_element_located((By.NAME,\"username\")))"
   ]
  },
  {
   "cell_type": "code",
   "execution_count": 224,
   "id": "af846c42",
   "metadata": {},
   "outputs": [
    {
     "name": "stderr",
     "output_type": "stream",
     "text": [
      "<ipython-input-224-f804fe441525>:3: DeprecationWarning: find_element_by_* commands are deprecated. Please use find_element() instead\n",
      "  username_locate = driver.find_element_by_name('username')\n",
      "<ipython-input-224-f804fe441525>:5: DeprecationWarning: find_element_by_* commands are deprecated. Please use find_element() instead\n",
      "  password_locate = driver.find_element_by_name('password')\n",
      "<ipython-input-224-f804fe441525>:7: DeprecationWarning: find_element_by_* commands are deprecated. Please use find_element() instead\n",
      "  driver.find_element_by_xpath('//*[@id=\"loginForm\"]/div/div[3]').click()\n"
     ]
    }
   ],
   "source": [
    "SAMPLE_USERNAME = ''\n",
    "SAMPLE_PASSWORD = ''\n",
    "username_locate = driver.find_element_by_name('username')\n",
    "username_locate.send_keys(SAMPLE_USERNAME)\n",
    "password_locate = driver.find_element_by_name('password')\n",
    "password_locate.send_keys(SAMPLE_PASSWORD)\n",
    "driver.find_element_by_xpath('//*[@id=\"loginForm\"]/div/div[3]').click()\n",
    "waiter = WebDriverWait(driver,10).until(EC.presence_of_element_located((By.CLASS_NAME,'cmbtv')))\n"
   ]
  },
  {
   "cell_type": "markdown",
   "id": "07623475",
   "metadata": {},
   "source": [
    "# Save your login info"
   ]
  },
  {
   "cell_type": "code",
   "execution_count": 225,
   "id": "8fd2fb1e",
   "metadata": {},
   "outputs": [
    {
     "name": "stderr",
     "output_type": "stream",
     "text": [
      "<ipython-input-225-99dec4f41042>:1: DeprecationWarning: find_element_by_* commands are deprecated. Please use find_element() instead\n",
      "  driver.find_element_by_class_name('cmbtv').click()\n"
     ]
    }
   ],
   "source": [
    "driver.find_element_by_class_name('cmbtv').click()\n",
    "waiter = WebDriverWait(driver,10).until(EC.presence_of_element_located((By.CLASS_NAME,\"aOOlW.HoLwm\")))"
   ]
  },
  {
   "cell_type": "code",
   "execution_count": 226,
   "id": "c32d22e5",
   "metadata": {},
   "outputs": [
    {
     "name": "stderr",
     "output_type": "stream",
     "text": [
      "<ipython-input-226-24324b0d2e63>:1: DeprecationWarning: find_element_by_* commands are deprecated. Please use find_element() instead\n",
      "  driver.find_element_by_class_name('aOOlW.HoLwm').click()\n"
     ]
    }
   ],
   "source": [
    "driver.find_element_by_class_name('aOOlW.HoLwm').click()\n",
    "waiter = WebDriverWait(driver,10).until(EC.presence_of_element_located((By.CLASS_NAME,'pbgfb')))"
   ]
  },
  {
   "cell_type": "markdown",
   "id": "2c7237de",
   "metadata": {},
   "source": [
    "# Enabling The search box for input"
   ]
  },
  {
   "cell_type": "code",
   "execution_count": 227,
   "id": "10c1ceaa",
   "metadata": {},
   "outputs": [
    {
     "name": "stderr",
     "output_type": "stream",
     "text": [
      "<ipython-input-227-5496befb0cc4>:1: DeprecationWarning: find_element_by_* commands are deprecated. Please use find_element() instead\n",
      "  search_box = driver.find_element_by_class_name(\"pbgfb\").click()\n"
     ]
    }
   ],
   "source": [
    "search_box = driver.find_element_by_class_name(\"pbgfb\").click()\n",
    "waiter = WebDriverWait(driver,10).until(EC.presence_of_element_located((By.CLASS_NAME,\"XTCLo.x3qfX\")))"
   ]
  },
  {
   "cell_type": "markdown",
   "id": "e8c3e5a6",
   "metadata": {},
   "source": [
    "# Search food in Search Box"
   ]
  },
  {
   "cell_type": "code",
   "execution_count": 228,
   "id": "7aabca22",
   "metadata": {},
   "outputs": [
    {
     "name": "stderr",
     "output_type": "stream",
     "text": [
      "<ipython-input-228-c603a504cd35>:1: DeprecationWarning: find_element_by_* commands are deprecated. Please use find_element() instead\n",
      "  search_box = driver.find_element_by_class_name(\"XTCLo.x3qfX\")\n"
     ]
    }
   ],
   "source": [
    "search_box = driver.find_element_by_class_name(\"XTCLo.x3qfX\")\n",
    "search_box.send_keys(\"food\")"
   ]
  },
  {
   "cell_type": "markdown",
   "id": "33f3d197",
   "metadata": {},
   "source": [
    "# Print all instahandles when searched for FOOD"
   ]
  },
  {
   "cell_type": "code",
   "execution_count": 229,
   "id": "e8161b6a",
   "metadata": {},
   "outputs": [
    {
     "name": "stderr",
     "output_type": "stream",
     "text": [
      "<ipython-input-229-e89fd32bca00>:1: DeprecationWarning: find_elements_by_* commands are deprecated. Please use find_elements() instead\n",
      "  x = driver.find_elements_by_class_name('_7UhW9.xLCgt.qyrsm.KV-D4.uL8Hv')\n"
     ]
    }
   ],
   "source": [
    "x = driver.find_elements_by_class_name('_7UhW9.xLCgt.qyrsm.KV-D4.uL8Hv')\n",
    "for i in x:\n",
    "    if i.get_attribute('innerHTML')[0] != '#':\n",
    "        print(i.get_attribute('innerHTML'))\n",
    "waiter = WebDriverWait(driver,10).until(EC.presence_of_element_located((By.CLASS_NAME,\"aIYm8.coreSpriteSearchClear\")))"
   ]
  },
  {
   "cell_type": "code",
   "execution_count": 230,
   "id": "9d9b249a",
   "metadata": {},
   "outputs": [
    {
     "name": "stderr",
     "output_type": "stream",
     "text": [
      "<ipython-input-230-fc195566f8a5>:1: DeprecationWarning: find_element_by_* commands are deprecated. Please use find_element() instead\n",
      "  driver.find_element_by_class_name(\"aIYm8.coreSpriteSearchClear\").click()\n"
     ]
    }
   ],
   "source": [
    "driver.find_element_by_class_name(\"aIYm8.coreSpriteSearchClear\").click()"
   ]
  },
  {
   "cell_type": "markdown",
   "id": "506a8acd",
   "metadata": {},
   "source": [
    "# Enabling the Search Box"
   ]
  },
  {
   "cell_type": "code",
   "execution_count": 231,
   "id": "66bc7c57",
   "metadata": {},
   "outputs": [
    {
     "name": "stderr",
     "output_type": "stream",
     "text": [
      "<ipython-input-231-5496befb0cc4>:1: DeprecationWarning: find_element_by_* commands are deprecated. Please use find_element() instead\n",
      "  search_box = driver.find_element_by_class_name(\"pbgfb\").click()\n"
     ]
    }
   ],
   "source": [
    "search_box = driver.find_element_by_class_name(\"pbgfb\").click()\n",
    "waiter = WebDriverWait(driver,10).until(EC.presence_of_element_located((By.CLASS_NAME,\"XTCLo.x3qfX\")))"
   ]
  },
  {
   "cell_type": "markdown",
   "id": "1bfa2fec",
   "metadata": {},
   "source": [
    "# Searching and Enabling Profile of \"So Delhi\""
   ]
  },
  {
   "cell_type": "code",
   "execution_count": 232,
   "id": "cca83d4e",
   "metadata": {},
   "outputs": [
    {
     "name": "stderr",
     "output_type": "stream",
     "text": [
      "<ipython-input-232-f2c68564b0b7>:1: DeprecationWarning: find_element_by_* commands are deprecated. Please use find_element() instead\n",
      "  search_box = driver.find_element_by_class_name(\"XTCLo.x3qfX\")\n"
     ]
    }
   ],
   "source": [
    "search_box = driver.find_element_by_class_name(\"XTCLo.x3qfX\")\n",
    "search_box.send_keys(\"So Delhi\")\n",
    "waiter = WebDriverWait(driver,10).until(EC.presence_of_element_located((By.CLASS_NAME,'-qQT3')))"
   ]
  },
  {
   "cell_type": "code",
   "execution_count": 233,
   "id": "5fd0b647",
   "metadata": {},
   "outputs": [
    {
     "name": "stderr",
     "output_type": "stream",
     "text": [
      "<ipython-input-233-faa1950d7f07>:1: DeprecationWarning: find_element_by_* commands are deprecated. Please use find_element() instead\n",
      "  driver.find_element_by_class_name(\"-qQT3\").click()\n"
     ]
    }
   ],
   "source": [
    "driver.find_element_by_class_name(\"-qQT3\").click()\n",
    "time.sleep(3)"
   ]
  },
  {
   "cell_type": "markdown",
   "id": "b810c52e",
   "metadata": {},
   "source": [
    "# Following So Delhi"
   ]
  },
  {
   "cell_type": "code",
   "execution_count": 234,
   "id": "83d12e7a",
   "metadata": {},
   "outputs": [
    {
     "name": "stdout",
     "output_type": "stream",
     "text": [
      "You already Following profile!\n"
     ]
    },
    {
     "name": "stderr",
     "output_type": "stream",
     "text": [
      "<ipython-input-234-4280fc0b8627>:1: DeprecationWarning: find_element_by_* commands are deprecated. Please use find_element() instead\n",
      "  if driver.find_element_by_xpath(\"//span[@class ='vBF20 _1OSdk']/button\").get_attribute('innerHTML') == \"Follow\":\n"
     ]
    }
   ],
   "source": [
    "if driver.find_element_by_xpath(\"//span[@class ='vBF20 _1OSdk']/button\").get_attribute('innerHTML') == \"Follow\":\n",
    "    driver.find_element_by_xpath('//*[@id=\"react-root\"]/section/main/div/header/section/div[1]/div[1]/div/div/div/span/span[1]/button').click()\n",
    "else:\n",
    "    print(\"You already Following profile!\")\n",
    "    \n"
   ]
  },
  {
   "cell_type": "markdown",
   "id": "a066b0ba",
   "metadata": {},
   "source": [
    "# Unfollowing the So Delhi"
   ]
  },
  {
   "cell_type": "code",
   "execution_count": 235,
   "id": "55ad2177",
   "metadata": {},
   "outputs": [
    {
     "name": "stderr",
     "output_type": "stream",
     "text": [
      "<ipython-input-235-f2b96e5ed55e>:1: DeprecationWarning: find_element_by_* commands are deprecated. Please use find_element() instead\n",
      "  if driver.find_element_by_xpath(\"//span[@class ='vBF20 _1OSdk']/button\").get_attribute('innerHTML') == \"Follow\":\n",
      "<ipython-input-235-f2b96e5ed55e>:4: DeprecationWarning: find_element_by_* commands are deprecated. Please use find_element() instead\n",
      "  driver.find_element_by_xpath('//*[@id=\"react-root\"]/section/main/div/header/section/div[1]/div[1]/div/div[2]/div/span/span[1]/button').click()\n",
      "<ipython-input-235-f2b96e5ed55e>:6: DeprecationWarning: find_element_by_* commands are deprecated. Please use find_element() instead\n",
      "  driver.find_element_by_xpath('/html/body/div[6]/div/div/div/div[3]/button[1]').click()\n"
     ]
    }
   ],
   "source": [
    "if driver.find_element_by_xpath(\"//span[@class ='vBF20 _1OSdk']/button\").get_attribute('innerHTML') == \"Follow\":\n",
    "    print(\"You already unfollow the profile!\")\n",
    "else:\n",
    "    driver.find_element_by_xpath('//*[@id=\"react-root\"]/section/main/div/header/section/div[1]/div[1]/div/div[2]/div/span/span[1]/button').click()\n",
    "    time.sleep(2)\n",
    "    driver.find_element_by_xpath('/html/body/div[6]/div/div/div/div[3]/button[1]').click()\n",
    "    "
   ]
  },
  {
   "cell_type": "markdown",
   "id": "5940e100",
   "metadata": {},
   "source": [
    "# Enable Search Box"
   ]
  },
  {
   "cell_type": "code",
   "execution_count": 236,
   "id": "972d3331",
   "metadata": {},
   "outputs": [
    {
     "name": "stderr",
     "output_type": "stream",
     "text": [
      "<ipython-input-236-5496befb0cc4>:1: DeprecationWarning: find_element_by_* commands are deprecated. Please use find_element() instead\n",
      "  search_box = driver.find_element_by_class_name(\"pbgfb\").click()\n"
     ]
    }
   ],
   "source": [
    "search_box = driver.find_element_by_class_name(\"pbgfb\").click()\n",
    "waiter = WebDriverWait(driver,10).until(EC.presence_of_element_located((By.CLASS_NAME,\"XTCLo.x3qfX\")))"
   ]
  },
  {
   "cell_type": "markdown",
   "id": "366f0aab",
   "metadata": {},
   "source": [
    "# Searching profile \"dilsefoodie\""
   ]
  },
  {
   "cell_type": "code",
   "execution_count": 237,
   "id": "298a7980",
   "metadata": {},
   "outputs": [
    {
     "name": "stderr",
     "output_type": "stream",
     "text": [
      "<ipython-input-237-0cc791f4c151>:1: DeprecationWarning: find_element_by_* commands are deprecated. Please use find_element() instead\n",
      "  search_box = driver.find_element_by_class_name(\"XTCLo.x3qfX\")\n"
     ]
    }
   ],
   "source": [
    "search_box = driver.find_element_by_class_name(\"XTCLo.x3qfX\")\n",
    "search_box.send_keys(\"dilsefoodie\")\n",
    "waiter = WebDriverWait(driver,10).until(EC.presence_of_element_located((By.CLASS_NAME,'-qQT3')))\n"
   ]
  },
  {
   "cell_type": "code",
   "execution_count": 238,
   "id": "02b438c8",
   "metadata": {},
   "outputs": [
    {
     "name": "stderr",
     "output_type": "stream",
     "text": [
      "<ipython-input-238-faa1950d7f07>:1: DeprecationWarning: find_element_by_* commands are deprecated. Please use find_element() instead\n",
      "  driver.find_element_by_class_name(\"-qQT3\").click()\n"
     ]
    }
   ],
   "source": [
    "driver.find_element_by_class_name(\"-qQT3\").click()\n",
    "time.sleep(3)"
   ]
  },
  {
   "cell_type": "markdown",
   "id": "94cca2b4",
   "metadata": {},
   "source": [
    "# Scrolling for loading elements"
   ]
  },
  {
   "cell_type": "code",
   "execution_count": 239,
   "id": "5bd23a38",
   "metadata": {},
   "outputs": [],
   "source": [
    "# scrolling 5 times to load atleast 30 elemnets\n",
    "for i in range(5):\n",
    "    driver.execute_script('window.scrollTo(0,document.body.scrollHeight);')\n",
    "    time.sleep(2)\n",
    "# go on top of page after scrolling the element\n",
    "driver.execute_script('window.scrollTo(0,-(document.body.scrollHeight));')\n",
    "waiter = WebDriverWait(driver,10).until(EC.presence_of_element_located((By.CLASS_NAME,'_9AhH0')))"
   ]
  },
  {
   "cell_type": "markdown",
   "id": "7f67a055",
   "metadata": {},
   "source": [
    "# Liking top 30 Photos of \"dilsefoodie\""
   ]
  },
  {
   "cell_type": "code",
   "execution_count": 240,
   "id": "d2da6e30",
   "metadata": {},
   "outputs": [
    {
     "name": "stderr",
     "output_type": "stream",
     "text": [
      "<ipython-input-240-e48d7e10244b>:1: DeprecationWarning: find_elements_by_* commands are deprecated. Please use find_elements() instead\n",
      "  all_photos = driver.find_elements_by_class_name('_9AhH0')\n",
      "<ipython-input-240-e48d7e10244b>:7: DeprecationWarning: find_element_by_* commands are deprecated. Please use find_element() instead\n",
      "  element = driver.find_element_by_xpath('/html/body/div[6]/div[2]/div/article/div/div[2]/div/div/div[2]/section[1]/span[1]/button/div[2]/span')\n"
     ]
    },
    {
     "name": "stdout",
     "output_type": "stream",
     "text": [
      "Already Liked!\n",
      "Already Liked!\n",
      "Already Liked!\n",
      "Liked All 30!\n"
     ]
    }
   ],
   "source": [
    "all_photos = driver.find_elements_by_class_name('_9AhH0')\n",
    "count = 0\n",
    "for photo in all_photos:\n",
    "    photo.click()\n",
    "    time.sleep(3)\n",
    "    try:\n",
    "        element = driver.find_element_by_xpath('/html/body/div[6]/div[2]/div/article/div/div[2]/div/div/div[2]/section[1]/span[1]/button/div[2]/span')\n",
    "        element.click()\n",
    "    except NoSuchElementException:\n",
    "        print('Already Liked!')\n",
    "    driver.back()\n",
    "    count += 1\n",
    "    if count == 30:\n",
    "        print(\"Liked All 30!\")\n",
    "        break\n",
    "driver.execute_script('window.scrollTo(0,0);')"
   ]
  },
  {
   "cell_type": "markdown",
   "id": "02a9f46f",
   "metadata": {},
   "source": [
    "# Unliking Top 30 photos of \"dilsefoodie\""
   ]
  },
  {
   "cell_type": "code",
   "execution_count": 241,
   "id": "f6c6442e",
   "metadata": {},
   "outputs": [
    {
     "name": "stderr",
     "output_type": "stream",
     "text": [
      "<ipython-input-241-74b55d5ee956>:1: DeprecationWarning: find_elements_by_* commands are deprecated. Please use find_elements() instead\n",
      "  all_photos = driver.find_elements_by_class_name('_9AhH0')\n"
     ]
    },
    {
     "name": "stdout",
     "output_type": "stream",
     "text": [
      "Already UnLiked!\n",
      "Already UnLiked!\n",
      "Already UnLiked!\n",
      "unliked all 30!\n"
     ]
    }
   ],
   "source": [
    "all_photos = driver.find_elements_by_class_name('_9AhH0')\n",
    "count = 0\n",
    "for photo in all_photos:\n",
    "    photo.click()\n",
    "    time.sleep(3)\n",
    "    if 'Unlike' in driver.find_element(By.CLASS_NAME,'fr66n').get_attribute('innerHTML'):\n",
    "        driver.find_element(By.CLASS_NAME,'fr66n').click()\n",
    "    else:\n",
    "        print('Already UnLiked!')\n",
    "        \n",
    "    driver.back()\n",
    "    count += 1\n",
    "    if count == 30:\n",
    "        print(\"unliked all 30!\")\n",
    "        break\n",
    "driver.execute_script(\"window.scrollTo(0,0)\")\n"
   ]
  },
  {
   "cell_type": "markdown",
   "id": "8179cfd3",
   "metadata": {},
   "source": [
    "# Enabling search and searching For So Delhi and open profile"
   ]
  },
  {
   "cell_type": "code",
   "execution_count": 242,
   "id": "a2bdcf8f",
   "metadata": {},
   "outputs": [
    {
     "name": "stderr",
     "output_type": "stream",
     "text": [
      "<ipython-input-242-5496befb0cc4>:1: DeprecationWarning: find_element_by_* commands are deprecated. Please use find_element() instead\n",
      "  search_box = driver.find_element_by_class_name(\"pbgfb\").click()\n"
     ]
    }
   ],
   "source": [
    "search_box = driver.find_element_by_class_name(\"pbgfb\").click()\n",
    "waiter = WebDriverWait(driver,10).until(EC.presence_of_element_located((By.CLASS_NAME,\"XTCLo.x3qfX\")))"
   ]
  },
  {
   "cell_type": "code",
   "execution_count": 243,
   "id": "a585a83e",
   "metadata": {},
   "outputs": [
    {
     "name": "stderr",
     "output_type": "stream",
     "text": [
      "<ipython-input-243-f2c68564b0b7>:1: DeprecationWarning: find_element_by_* commands are deprecated. Please use find_element() instead\n",
      "  search_box = driver.find_element_by_class_name(\"XTCLo.x3qfX\")\n"
     ]
    }
   ],
   "source": [
    "search_box = driver.find_element_by_class_name(\"XTCLo.x3qfX\")\n",
    "search_box.send_keys(\"So Delhi\")\n",
    "waiter = WebDriverWait(driver,10).until(EC.presence_of_element_located((By.CLASS_NAME,'-qQT3')))\n"
   ]
  },
  {
   "cell_type": "code",
   "execution_count": 244,
   "id": "b5ffe757",
   "metadata": {},
   "outputs": [
    {
     "name": "stderr",
     "output_type": "stream",
     "text": [
      "<ipython-input-244-faa1950d7f07>:1: DeprecationWarning: find_element_by_* commands are deprecated. Please use find_element() instead\n",
      "  driver.find_element_by_class_name(\"-qQT3\").click()\n"
     ]
    }
   ],
   "source": [
    "driver.find_element_by_class_name(\"-qQT3\").click()\n",
    "time.sleep(3)"
   ]
  },
  {
   "cell_type": "markdown",
   "id": "4b95e6e1",
   "metadata": {},
   "source": [
    "# Extracting first 500 followers of \"So Delhi\""
   ]
  },
  {
   "cell_type": "code",
   "execution_count": 245,
   "id": "ac26cd77",
   "metadata": {},
   "outputs": [
    {
     "name": "stderr",
     "output_type": "stream",
     "text": [
      "<ipython-input-245-84160e454363>:3: DeprecationWarning: find_element_by_* commands are deprecated. Please use find_element() instead\n",
      "  driver.find_element_by_xpath('//a[@class=\"-nal3 \"]/span[@class=\"g47SY \"]').click()\n"
     ]
    }
   ],
   "source": [
    "try:\n",
    "    driver.execute_script('window.scrollTo(0, 0)')\n",
    "    driver.find_element_by_xpath('//a[@class=\"-nal3 \"]/span[@class=\"g47SY \"]').click()\n",
    "except NoSuchElementException:\n",
    "    driver.find_element_by_xpath('//a[@class=\" _81NM2\"]/span[contains(@class, \"g47SY\")]').click()\n",
    "waiter=WebDriverWait(driver, 10).until(EC.presence_of_element_located((By.XPATH, '//a[contains(@class, \"notranslate\")]')))"
   ]
  },
  {
   "cell_type": "code",
   "execution_count": 246,
   "id": "4a7064d6",
   "metadata": {},
   "outputs": [
    {
     "name": "stderr",
     "output_type": "stream",
     "text": [
      "<ipython-input-246-1e19f5b108a1>:6: DeprecationWarning: find_elements_by_* commands are deprecated. Please use find_elements() instead\n",
      "  elements=driver.find_elements_by_xpath('//a[contains(@class, \"notranslate\")]')\n",
      "<ipython-input-246-1e19f5b108a1>:9: DeprecationWarning: find_element_by_* commands are deprecated. Please use find_element() instead\n",
      "  driver.execute_script('arguments[0].scrollIntoView(0, 100);', driver.find_element_by_xpath('//ul[contains(@class, \"jSC57\")]'))\n"
     ]
    },
    {
     "data": {
      "text/plain": [
       "['stefan_shiraj',\n",
       " '_hookhooks_',\n",
       " 'dhruvloganii',\n",
       " 'thatsilenthobo',\n",
       " 'negi_.megha',\n",
       " 'abhigyan008',\n",
       " 'the_shadow_2007',\n",
       " 'anilvishwakarma9569',\n",
       " 'amanbhagxt',\n",
       " '_jahanvik_',\n",
       " 'nishantyadav1',\n",
       " 'prakhar_aanand',\n",
       " 'congress_west_delhi',\n",
       " 'beingsajjad',\n",
       " 'fijan.amat',\n",
       " 'foodie_forlife06',\n",
       " 'aman_of_culture',\n",
       " 'ashimma_sharrma',\n",
       " 'rishabh200203',\n",
       " 'harshit_dagar',\n",
       " 'natashapereira_',\n",
       " 'shyy__snicker',\n",
       " 'travel_andtaste',\n",
       " 'snehasarkar00',\n",
       " 'mavyblues_',\n",
       " 'kush_choudhary',\n",
       " 'sejal.desai.3382',\n",
       " 'parulrajwanshi',\n",
       " 'neelamgautamm',\n",
       " 'mittaltanu19',\n",
       " 'jumping_minds',\n",
       " 'backyardskatepark_',\n",
       " 'arpitupadhyay01',\n",
       " 'sneha.dhingra',\n",
       " 'annu_981',\n",
       " 'mr_ravi_1143',\n",
       " 'aravalimotorsportspark',\n",
       " 'dot.poetess',\n",
       " 'yadavnitish295_',\n",
       " 'chadha_saloni',\n",
       " 'pranjalgupta1396',\n",
       " '_unpaired_eletron',\n",
       " '__rajeev_singh_nirwan_',\n",
       " 'anjumara.shaik',\n",
       " 'meghn_a2228',\n",
       " 'all_singin999_rehan',\n",
       " 'pallavigawri_',\n",
       " 'dhruvrathore829',\n",
       " 'wanderlustrishabh',\n",
       " 'royuttam4u',\n",
       " 'shvet1984',\n",
       " 'lolipop.corona',\n",
       " 'suhailquresh.3',\n",
       " 'lovenmad',\n",
       " 'aylinfardi2019',\n",
       " 'delhi_siyappa_',\n",
       " 'shruziee',\n",
       " 'naveenyadav2609',\n",
       " 'sushantkhurana',\n",
       " 'naman_mahna',\n",
       " '_the_991999',\n",
       " 'sirohi_sneha',\n",
       " 'harshavardhan.vuyyuru',\n",
       " 'ghoshreyaa',\n",
       " 'imastrangethingg',\n",
       " 'shayar_writes_7',\n",
       " 'aakash._26',\n",
       " 'lalitmachale28519901',\n",
       " 'mehtachakshu',\n",
       " 'wafa_nizami_mansuri',\n",
       " 'hg.goel1994',\n",
       " '_utkarshkataria_',\n",
       " 'akshaychawla1',\n",
       " 'navneetika',\n",
       " 'shivaniiverma_7',\n",
       " 'helping_players',\n",
       " 'mojo666jojo',\n",
       " 'kumar_nawesh',\n",
       " 'kshitijx999',\n",
       " 'ak_shat001',\n",
       " 'arora.anirudh',\n",
       " 'shweta_29',\n",
       " 'mehair09',\n",
       " '_madhav09_',\n",
       " 'saurav_singh19',\n",
       " 'maaloca_',\n",
       " 'alteregoofasanehuman',\n",
       " 'a_zoo_bae',\n",
       " 'neha.singla.5095110',\n",
       " 'akshitsharma_____',\n",
       " 'drmanjuchugh',\n",
       " 'lovetales__2000',\n",
       " 'negi_chandana',\n",
       " 'simiran.mohapatra',\n",
       " 'vyshugopi',\n",
       " 'thesailingsaint',\n",
       " '_.ishani',\n",
       " 'theparasdhingra',\n",
       " '__shalinii',\n",
       " 'ankitbnsl96',\n",
       " 'moti.vationalquotes588',\n",
       " 'vijaykannaujiya',\n",
       " 'nishant.varshney7',\n",
       " 'smilekarthi92',\n",
       " 'foodieneelam',\n",
       " 'bhumikaa327',\n",
       " 'khaleelyasu',\n",
       " 'the.mystic.mantra',\n",
       " 'yog.ayla',\n",
       " 'guptadn17',\n",
       " 'sengarl',\n",
       " 'notyourbaeeeee___',\n",
       " 'bhimsainik_santosh_358',\n",
       " 'shweeta13',\n",
       " 'senurzawey',\n",
       " 'reshmataneja9',\n",
       " 'harsh.kc',\n",
       " 'vishesh0005',\n",
       " 'rachit.mendiratta',\n",
       " 'paras.girdhar',\n",
       " 'ravik.mr',\n",
       " 'tejas_khadke_43',\n",
       " 'shastri_ji23',\n",
       " 'foodicious_itechgod',\n",
       " 'iam_abhi_sheel',\n",
       " 'delhideal_app',\n",
       " 'harneet_arneja92',\n",
       " 'mr_saime_009',\n",
       " 'mr_manoj___420',\n",
       " 'professor_shabbu',\n",
       " 'thanos1393',\n",
       " 'saurabh_705080',\n",
       " 'muskang_18',\n",
       " 'singingsoul_rashmi',\n",
       " 'lokesh_8_',\n",
       " 'yeapvt',\n",
       " 'humbae02',\n",
       " 'mumbai.khana',\n",
       " 'online_clothes_sell_all_india',\n",
       " 'nrutbaadesignerstudio',\n",
       " 'aaddi',\n",
       " 'devbharatmaheshwari',\n",
       " 'jaggia_vikas',\n",
       " 'singh_tarunveer',\n",
       " 'khansaifzuber02',\n",
       " 'k__nithesh',\n",
       " 'avnirose7252',\n",
       " 'sakshichoudhary17',\n",
       " 'neha.dhondiyal',\n",
       " 'p.r.a._k_.a.s.h',\n",
       " 'pritamsinhasintusinha',\n",
       " 'shehzadasahil',\n",
       " 'anuragjain781',\n",
       " 'suraj.ranaji.90',\n",
       " 'shuklaneha_',\n",
       " 'deekshabisht_',\n",
       " 'mauwnicka',\n",
       " 'thenoineyearold',\n",
       " '__theyupp',\n",
       " '_satvikd_',\n",
       " 'momhad_eleyash',\n",
       " 'royalhuman5',\n",
       " 'amitnagar5678',\n",
       " 'sonali18995',\n",
       " 'akhravin',\n",
       " 'tiny.chaudhary',\n",
       " 'malaysingh16',\n",
       " '_.ishaah.__',\n",
       " 'pottersoul1',\n",
       " 'sonu85039',\n",
       " '_anshi.ta_',\n",
       " 'diyaakeswani',\n",
       " 'super_giggles_star',\n",
       " 'mithun.prakash_photography',\n",
       " 'n.papneja',\n",
       " 'bhukkadbynature',\n",
       " 'cleoleo_03',\n",
       " 'malisha_kujur',\n",
       " 'heba.ana.12327608',\n",
       " 'iamaribanaeem',\n",
       " 'divi_and_mom',\n",
       " 'rakshitaggarwal23',\n",
       " 'sanyaaa_08',\n",
       " '__samyak__jain__',\n",
       " 'nerinacooper',\n",
       " 'foi_runway',\n",
       " 'nisha.chauhan____',\n",
       " 'abhilashroy28',\n",
       " 'jerrykalwani',\n",
       " 'vaibhaveats',\n",
       " 'drjainsamyak',\n",
       " 'sundari0239',\n",
       " 'anintrovert_wanderer',\n",
       " 'preeti_5812',\n",
       " 'shaalini.jhaa',\n",
       " 'rushabhgala9598',\n",
       " 'pooh__bhardwaj',\n",
       " 'ishita_sharma05',\n",
       " 'sarcastic_x_deepak',\n",
       " 'ishan_ig_official',\n",
       " 'preeti_saini90',\n",
       " 'aryamansehgal',\n",
       " 'mananda_passeddowntheages',\n",
       " 'motivational_quotes.ak',\n",
       " 'sherolikachaudhary',\n",
       " 'ak.issaj',\n",
       " 'thedhruvbansal',\n",
       " 'khushinesss',\n",
       " 'taqwa.and.tawakkul',\n",
       " 'tyagiboy_gaming',\n",
       " 'tushar.rai.7967',\n",
       " 'inderjit.singh.bons',\n",
       " '_roshansanghvi',\n",
       " 'art.for.life2k20',\n",
       " 'sisigelato',\n",
       " 'nureen',\n",
       " 'tajinder_singh_94',\n",
       " 'sanjay1933singh',\n",
       " 'jogi1558',\n",
       " 'vanshi04',\n",
       " 'shivani_maheshwari11',\n",
       " 'dastak_e_swaad',\n",
       " 'my_neonmoon',\n",
       " 'chanchalprakash',\n",
       " 'she_is_kaleidoscopic',\n",
       " 'salove_bhardwaj',\n",
       " 'liza_home_',\n",
       " '_balpreet',\n",
       " 'avinash2.01',\n",
       " 'vishfot',\n",
       " 'jagisha.upadhyay',\n",
       " 'shwetasingh047',\n",
       " 'sumitt1884',\n",
       " 'bohra_deepesh',\n",
       " 'ali.bistro',\n",
       " 'alfaiz9621',\n",
       " 'pragya.15',\n",
       " 'dashamnoor_kaur_satyal',\n",
       " 'mansur_2860',\n",
       " 'shivamchaudhary7505',\n",
       " 'prashastisharma07',\n",
       " 'chaturvediabhineet',\n",
       " 'productiveonly',\n",
       " 'knows2380',\n",
       " '23.rahulgaur',\n",
       " 'samruddhi_rs',\n",
       " 'ilyy_1290',\n",
       " 'k_swati2',\n",
       " 'anilrishi53',\n",
       " 'liordesigngroup',\n",
       " 'purabi8910',\n",
       " 'parvv',\n",
       " 'huazelei._',\n",
       " 'shambhavimishra__',\n",
       " 'itsjuliealbesa',\n",
       " 'vishwasgirdher',\n",
       " 'jmehta3381',\n",
       " 'simmii484',\n",
       " 'boomer7339',\n",
       " 'nikettmehtaa',\n",
       " 'explorewith_pandit',\n",
       " '_.moonnn._',\n",
       " '_shawty_2336_',\n",
       " 'jassian_harish_bhukkal',\n",
       " 'anany_yaaa',\n",
       " 'azeemkhn007',\n",
       " 'thakkar4153',\n",
       " 'vibhoresinghania_',\n",
       " 'piggysash',\n",
       " 'its_neha_kumari08',\n",
       " 'innmyownlilworld',\n",
       " 'chughkashish19',\n",
       " 'soph.poirier',\n",
       " '_shivam_bansal._',\n",
       " 'vidushii_guptaa',\n",
       " 'geepvt_',\n",
       " 'barmantraveldiaries',\n",
       " 'gurmeetchauhan_',\n",
       " 'dichotomyofart_',\n",
       " 'adinarayana.mekala',\n",
       " 'ayushi_shrivastava14',\n",
       " 'shailendra6288',\n",
       " 'minimynie',\n",
       " 'raghav.gupta84',\n",
       " 'kanikaraina_',\n",
       " 'sanyya_pawar',\n",
       " 'mandy_mamta',\n",
       " 'deepankarsardana',\n",
       " '26_harshita',\n",
       " 'tara_ki_rasoi1234',\n",
       " 'sangeetavrao',\n",
       " 'raina_deep02',\n",
       " 'debalina_pvt',\n",
       " 'seth_vinayak',\n",
       " 'sakshisachdevaa',\n",
       " 'shaurya_wahal',\n",
       " 'chocolicious_by_shachi',\n",
       " 'rakeshshaunik',\n",
       " 'orgnic__followers_',\n",
       " 'sutikshanofficial_',\n",
       " 'psychospace_',\n",
       " 'julx.d',\n",
       " 'best.messs',\n",
       " 'man__of_honour_deepansh',\n",
       " 'anasahmadalvi',\n",
       " 'krtinjain',\n",
       " 'luv__khurana',\n",
       " 'ripikariya',\n",
       " 'abbu2397',\n",
       " 'karan_giflif',\n",
       " 'ajitsingh81612',\n",
       " '___riyaa2905',\n",
       " 'aahana_1125',\n",
       " 'wordaaddict_',\n",
       " 'gv_batra',\n",
       " 'avnish_bhasin',\n",
       " 'ziba.arabzadeh1400',\n",
       " 'reshma_pritee',\n",
       " 'dugg.pvt_',\n",
       " 'manikaboipai',\n",
       " 'shagun_12_',\n",
       " 'siddhi.mehtaa',\n",
       " 'mehakk_mehta_',\n",
       " 'worldfamousstalker',\n",
       " '_pope.lee',\n",
       " 'kashhhhishhhh__',\n",
       " '__dk_stylish__boy',\n",
       " 'shwetakabirjain',\n",
       " 'blixx_by_deepika',\n",
       " 'shreya_saraf',\n",
       " 'makeupsbyghazal',\n",
       " 'batr_fly_antiques',\n",
       " 'abhinav_chaudhary_01',\n",
       " 'mendirattasonam',\n",
       " 'its__nikhilsharma',\n",
       " 'gauravsardarx',\n",
       " 'ritu_singh_5555',\n",
       " 'kikihandmade73',\n",
       " 'tarun.pvttt_',\n",
       " 'ines.bimba',\n",
       " '_n_singh444',\n",
       " 'swati.1503',\n",
       " 'ayaana.sehgal06',\n",
       " 'i.m.apoorv',\n",
       " 'bridebajabuffet',\n",
       " 'makeoversbyanushka',\n",
       " 'sidd31_',\n",
       " '02_priyaa',\n",
       " '_asmidutta_',\n",
       " 'rohit70556287',\n",
       " 'ankushdhyawala',\n",
       " 'not_a_snitchh',\n",
       " 'sarthakbisht101',\n",
       " '_bhavya.singhh',\n",
       " 'amritsv',\n",
       " 'roshanarnav',\n",
       " 'aa_dy_aa',\n",
       " 'instaaa_tanveer',\n",
       " '_gajendra_jatt1984',\n",
       " 'boltthedesi',\n",
       " 'tortillatz',\n",
       " 'sunny_gurjar0001',\n",
       " 'arun_lakra_0707',\n",
       " 'gypsyrosss',\n",
       " 'mdhav_gupta',\n",
       " 'payalsharma8436',\n",
       " 'mus.cann',\n",
       " '__muskannnnnnnnn',\n",
       " 'luckyk9223',\n",
       " 'sarpanch_hotel_yeola',\n",
       " 's.wajidali2',\n",
       " 'the_fashion_world_gonikhan',\n",
       " 'goel.sanket',\n",
       " 'nancyyjuneja',\n",
       " 'prince_sagar0',\n",
       " 'del_saf123',\n",
       " 'sigmalad',\n",
       " 'fazinoora',\n",
       " 'nikitakandwal97',\n",
       " 'esh__887___',\n",
       " 'bobbytyagi046',\n",
       " 'radhikagounden',\n",
       " 'rajat_sharma14',\n",
       " 'karishmaoberoi9',\n",
       " 'ravi_kr_jyoti',\n",
       " 'i_m__n.i.r.u__',\n",
       " '70.69347530',\n",
       " 'neetika26',\n",
       " 'varunganjoo',\n",
       " 'rahul20b',\n",
       " 'prreetydixit',\n",
       " 'the_bun_tie_project',\n",
       " 'nakullaggarwal',\n",
       " 'thesabyasachisahoo',\n",
       " 'akshay_yadav97',\n",
       " 'qeisuke',\n",
       " 'tushar71311',\n",
       " 'sh4shankshekhar_',\n",
       " 'monikaamba121',\n",
       " 'lakshay_khandelwal22',\n",
       " 'sastigangstaanigga',\n",
       " 'pjmkthjjkbts',\n",
       " 'sakshi.singh_ss18',\n",
       " 'isha_bindal',\n",
       " 'gagstraveldiaries',\n",
       " 'ruchika2984',\n",
       " '_alvira.sehgal_',\n",
       " 'mdshadab448',\n",
       " 'aarkdemusic',\n",
       " 'ghumakkadlaunda',\n",
       " 'prachetas92',\n",
       " 'narzaryraaz4',\n",
       " 'palakdhingra._',\n",
       " 'bigbrothersalon',\n",
       " 'shafiya.ghani',\n",
       " 'er.maninder',\n",
       " '__hasan__1729',\n",
       " 'dinner_in_the_starlight',\n",
       " 'tanmay.always',\n",
       " 'twissha.roy',\n",
       " 'bhaav__na',\n",
       " 'x_thewildillusion_x',\n",
       " 'singhudisha6',\n",
       " 'a.moorthi87',\n",
       " 'boranita',\n",
       " 'im_black_tiger',\n",
       " 'rahul.dadarwal',\n",
       " 'pooj99',\n",
       " 'deliciouzz_chocolates',\n",
       " 'theperuresort',\n",
       " 'ahlawatsiddhant',\n",
       " 'fallenamaltas',\n",
       " 'king_died_6',\n",
       " 'priyagaur057',\n",
       " 'hardik_groverr',\n",
       " 'hobby.grapher',\n",
       " 'yogeshsharma.07',\n",
       " 'nic_yi_987654321',\n",
       " 'parul.kansal.3',\n",
       " 'heart.listener',\n",
       " 'careless_lemonade',\n",
       " 'ig.psychedelic',\n",
       " 'rohit_50_',\n",
       " 'goel_yash',\n",
       " 'xfeihax',\n",
       " 'varisha.naseem1102',\n",
       " 'foodie.hu.bc',\n",
       " 'shubhamrajput77114',\n",
       " 'jabyoumetme',\n",
       " 'shivanisehgall',\n",
       " 'augustfoodie06',\n",
       " 'rahulpawar2301',\n",
       " '_preeti_edizzz_',\n",
       " 'shaazma_',\n",
       " 'datta.anika',\n",
       " 'untameable_locks',\n",
       " 'agratajcity',\n",
       " 'blackcoffee_n_workout',\n",
       " 'vsaurabh2021',\n",
       " 'mansirajpalgrover',\n",
       " 'sudiptadash21',\n",
       " 'yo_soy_prerna',\n",
       " 'rrucha_kishore',\n",
       " 'nikunj_13vd',\n",
       " 'vedareisen',\n",
       " 'nimitkumarsingh',\n",
       " 'kavita_chhawdi',\n",
       " 'anishachaturvedi',\n",
       " 'sheetalguliarana',\n",
       " 'the_jonnakuti',\n",
       " 'food1d0',\n",
       " 'nikkigupta271',\n",
       " 'keshavbajaj_03',\n",
       " 'mayank._.2512',\n",
       " 'kalyani_bhide',\n",
       " '_diksha_pandey_',\n",
       " 'anjujain880',\n",
       " 'harshitamakhija1',\n",
       " 'anubhavpandeyy',\n",
       " '_keshavpvvt',\n",
       " 'tushar.khurana6',\n",
       " 'sisir_121',\n",
       " 'simpy_yadav_27',\n",
       " 'surabhimishra279',\n",
       " 'theunlimited2021',\n",
       " '__muskan__mittal__',\n",
       " '_whohardik',\n",
       " 'shefali.14',\n",
       " 'kmbjabhi',\n",
       " 'gunnidhii',\n",
       " 'harsh_5267',\n",
       " 'vertikaaneja07',\n",
       " 'alika.kapoor',\n",
       " 'baten_mann_ki',\n",
       " 'atreyandassociates',\n",
       " 'anks_0641',\n",
       " 'avneet_singh_28',\n",
       " 'thisiskaur96',\n",
       " 'ravindra_dewasi46',\n",
       " 'divya1sharmaa']"
      ]
     },
     "execution_count": 246,
     "metadata": {},
     "output_type": "execute_result"
    }
   ],
   "source": [
    "while True:\n",
    "    try:\n",
    "        sodelhi=[]\n",
    "        count=0\n",
    "        while True:\n",
    "            elements=driver.find_elements_by_xpath('//a[contains(@class, \"notranslate\")]')\n",
    "            if len(elements)<500:\n",
    "                waiter=WebDriverWait(driver, 10).until(EC.presence_of_element_located((By.XPATH, '//ul[contains(@class, \"jSC57\")]')))\n",
    "                driver.execute_script('arguments[0].scrollIntoView(0, 100);', driver.find_element_by_xpath('//ul[contains(@class, \"jSC57\")]'))\n",
    "                time.sleep(0.8)\n",
    "            i=elements[count]\n",
    "            sodelhi.append(i.get_attribute('innerHTML'))\n",
    "            if len(sodelhi)>=500:\n",
    "                break\n",
    "            count+=1\n",
    "        break\n",
    "    except StaleElementReferenceException:\n",
    "        continue\n",
    "sodelhi\n",
    "\n"
   ]
  },
  {
   "cell_type": "code",
   "execution_count": 247,
   "id": "d3b9210f",
   "metadata": {},
   "outputs": [],
   "source": [
    "driver.find_element(By.XPATH,'/html/body/div[6]/div/div/div[1]/div/div[2]/button').click()\n",
    "waiter = WebDriverWait(driver,10).until(EC.presence_of_element_located((By.CLASS_NAME,'pbgfb')))"
   ]
  },
  {
   "cell_type": "markdown",
   "id": "6164ae66",
   "metadata": {},
   "source": [
    "# Enabling Searching and Search for \"foodtalkindia\" "
   ]
  },
  {
   "cell_type": "code",
   "execution_count": 248,
   "id": "c9c2d7d5",
   "metadata": {},
   "outputs": [
    {
     "name": "stderr",
     "output_type": "stream",
     "text": [
      "<ipython-input-248-5496befb0cc4>:1: DeprecationWarning: find_element_by_* commands are deprecated. Please use find_element() instead\n",
      "  search_box = driver.find_element_by_class_name(\"pbgfb\").click()\n"
     ]
    }
   ],
   "source": [
    "search_box = driver.find_element_by_class_name(\"pbgfb\").click()\n",
    "waiter = WebDriverWait(driver,10).until(EC.presence_of_element_located((By.CLASS_NAME,\"XTCLo.x3qfX\")))"
   ]
  },
  {
   "cell_type": "code",
   "execution_count": 249,
   "id": "af8d1ae0",
   "metadata": {},
   "outputs": [
    {
     "name": "stderr",
     "output_type": "stream",
     "text": [
      "<ipython-input-249-524861a94438>:1: DeprecationWarning: find_element_by_* commands are deprecated. Please use find_element() instead\n",
      "  search_box = driver.find_element_by_class_name(\"XTCLo.x3qfX\")\n"
     ]
    }
   ],
   "source": [
    "search_box = driver.find_element_by_class_name(\"XTCLo.x3qfX\")\n",
    "search_box.send_keys(\"foodtalkindia\")\n",
    "waiter = WebDriverWait(driver,10).until(EC.presence_of_element_located((By.CLASS_NAME,'-qQT3')))"
   ]
  },
  {
   "cell_type": "code",
   "execution_count": 250,
   "id": "c565c860",
   "metadata": {},
   "outputs": [
    {
     "name": "stderr",
     "output_type": "stream",
     "text": [
      "<ipython-input-250-faa1950d7f07>:1: DeprecationWarning: find_element_by_* commands are deprecated. Please use find_element() instead\n",
      "  driver.find_element_by_class_name(\"-qQT3\").click()\n"
     ]
    }
   ],
   "source": [
    "driver.find_element_by_class_name(\"-qQT3\").click()\n",
    "time.sleep(3)"
   ]
  },
  {
   "cell_type": "code",
   "execution_count": 251,
   "id": "29f99eb2",
   "metadata": {},
   "outputs": [
    {
     "name": "stderr",
     "output_type": "stream",
     "text": [
      "<ipython-input-251-84160e454363>:3: DeprecationWarning: find_element_by_* commands are deprecated. Please use find_element() instead\n",
      "  driver.find_element_by_xpath('//a[@class=\"-nal3 \"]/span[@class=\"g47SY \"]').click()\n"
     ]
    }
   ],
   "source": [
    "try:\n",
    "    driver.execute_script('window.scrollTo(0, 0)')\n",
    "    driver.find_element_by_xpath('//a[@class=\"-nal3 \"]/span[@class=\"g47SY \"]').click()\n",
    "except NoSuchElementException:\n",
    "    driver.find_element_by_xpath('//a[@class=\" _81NM2\"]/span[contains(@class, \"g47SY\")]').click()\n",
    "waiter=WebDriverWait(driver, 10).until(EC.presence_of_element_located((By.XPATH, '//a[contains(@class, \"notranslate\")]')))"
   ]
  },
  {
   "cell_type": "code",
   "execution_count": 252,
   "id": "32e0ae32",
   "metadata": {},
   "outputs": [
    {
     "name": "stderr",
     "output_type": "stream",
     "text": [
      "<ipython-input-252-810ef30754b7>:6: DeprecationWarning: find_elements_by_* commands are deprecated. Please use find_elements() instead\n",
      "  elements=driver.find_elements_by_xpath('//a[contains(@class, \"notranslate\")]')\n",
      "<ipython-input-252-810ef30754b7>:9: DeprecationWarning: find_element_by_* commands are deprecated. Please use find_element() instead\n",
      "  driver.execute_script('arguments[0].scrollIntoView(0, 100);', driver.find_element_by_xpath('//ul[contains(@class, \"jSC57\")]'))\n"
     ]
    },
    {
     "data": {
      "text/plain": [
       "['cricket_lover_tejas_salunkhe87',\n",
       " 'sassy_silk_by_banarasidhaga',\n",
       " 'utkarsh.priyadarshi10',\n",
       " '_indian__army_lover_143',\n",
       " 'vinitchauhan__',\n",
       " 'tyraranger',\n",
       " 'mownikasuseendran',\n",
       " 'king_pritam_xx',\n",
       " 'wlounge.inorbit',\n",
       " 'janhvibidhuri',\n",
       " 'food_picked',\n",
       " 'rouii3_rouii33',\n",
       " 'itspriya_pandey',\n",
       " 'mavyblues_',\n",
       " 'hgsindia',\n",
       " 'subham.rock_07',\n",
       " 'im_cutechocolaty',\n",
       " 'ca_varunahuja',\n",
       " 'tanyabakshii',\n",
       " 'grewalaviraj',\n",
       " 'mohan__vinnakota',\n",
       " 'ishusbutterlab',\n",
       " 'gooddaysharma',\n",
       " 'okaysaranghae',\n",
       " 'food.lovers1974',\n",
       " 'mr_naresh_mangaraj.19',\n",
       " 'mr_ravi_1143',\n",
       " 'iakshaypandey',\n",
       " 'the_firstgig',\n",
       " 'themintishfooddiaries11',\n",
       " 'justoverhere07',\n",
       " 'noorjahanshaikh80',\n",
       " 'jdhruv90',\n",
       " 'glad.he.ate.herr',\n",
       " 'stylemusicmemes',\n",
       " 'lovetales__2000',\n",
       " 'devanshu93',\n",
       " 'jyotsnasubodh',\n",
       " 'cute__king__kannadiga',\n",
       " 'kanzaikram4',\n",
       " 'raj_onenonly',\n",
       " 'smilekarthi92',\n",
       " 'chandan_kmr_',\n",
       " 'rastogi.akarsh',\n",
       " 'imrohanbajpai',\n",
       " 'ajay.negi85',\n",
       " 'deep_vaid_55',\n",
       " 'bigfatfoodie1991',\n",
       " 'arpitarora16',\n",
       " 'foodiethefoodlover',\n",
       " 'wasimsheikh16633',\n",
       " 'shaikhsami6165',\n",
       " 'drdaadi',\n",
       " 'maquitsal_sadecv',\n",
       " 'nida_eqbal',\n",
       " 'lakeshhadekargmail.comll',\n",
       " 'way.fe.rer',\n",
       " 'flowerchild712',\n",
       " 'themangopeople.india',\n",
       " 'avnirose7252',\n",
       " 'aruns_photographs',\n",
       " 'ushadewra',\n",
       " 'amitgupta0852',\n",
       " 'rahul_thakor2909',\n",
       " 'nishant_kargeti',\n",
       " 'mrinmenon1968',\n",
       " 'ravnav21',\n",
       " 'avadesai81',\n",
       " 'ranjanarajbhar.25',\n",
       " 'ank_mitt',\n",
       " 'natashakapoorkhan74',\n",
       " 'cravingsfoodcourt',\n",
       " '_nehasmriti_',\n",
       " 'printshalastore',\n",
       " 'kochharar',\n",
       " 'sushilakapoor',\n",
       " 'sangi_agrawal',\n",
       " 'varunsharma86',\n",
       " 'kitty.7841',\n",
       " 'sisigelato',\n",
       " 'khadad_bandya',\n",
       " 'rexeonsolutions',\n",
       " 'swaati_prateek',\n",
       " 'tothastu',\n",
       " 'alcovepatisserie',\n",
       " 'mvnmanpowerservice',\n",
       " 'gaganbhatia73',\n",
       " 'mumbai_foodexplorers',\n",
       " 'shaik_sufiuan_baba',\n",
       " 'trading0305',\n",
       " 'shoukeen_foodie',\n",
       " 'amanlamba101',\n",
       " 'anwita909',\n",
       " 'kasim_syed_anwar',\n",
       " 'manishmatic',\n",
       " 'mohu.24',\n",
       " 'somychakraborty2612',\n",
       " 'kumari_susheela_',\n",
       " 'anilrajkapur',\n",
       " 'shi_._nsh',\n",
       " 'i_m_pushpakjoshi',\n",
       " 'psboniyal',\n",
       " 'mahalaxmi_mumbai',\n",
       " 'daljitkaur.20',\n",
       " 'engrainedto',\n",
       " 'adnan_nazer',\n",
       " 'omprasad.14',\n",
       " 'akg.2004',\n",
       " 'maliha1201',\n",
       " 'atulv123',\n",
       " 'thelousychef',\n",
       " '__her__closet_',\n",
       " '_ghar_ka__khana',\n",
       " 'uday_guesty_',\n",
       " 'biancasaurastri',\n",
       " 'jadav_shambhavi',\n",
       " 'ashutosharya11',\n",
       " 'gmalik17',\n",
       " 'iam_harshtyagii',\n",
       " 'missionmomoeataly',\n",
       " 'shivanshi1372',\n",
       " 'prajwal8321',\n",
       " 'ashutosh_dalal_',\n",
       " 'paithane.g',\n",
       " 'the_bun_tie_project',\n",
       " '__._mr.hemanth.17_.__',\n",
       " 'chefamita',\n",
       " 'rajashekar_ponna',\n",
       " 'amitkumarskb007',\n",
       " 'tindipothas',\n",
       " 'bx_brian_07_xx',\n",
       " 'prabjot_bhinder_111_',\n",
       " 'theyetiscave83',\n",
       " 'casusgrillindia',\n",
       " 'palvaivinoda',\n",
       " 'jayayahaha',\n",
       " 'king_of_devils_143._',\n",
       " 'k.baswashor_7218',\n",
       " 'sajansinghalag',\n",
       " 'trinkcase',\n",
       " 'strings_012',\n",
       " 'onlyinstagm',\n",
       " '0morality',\n",
       " 'janvi.lalita',\n",
       " 'funmania.uk',\n",
       " 'vgtaaraam551',\n",
       " 'rahul__brakta__',\n",
       " 'gagan_gakhar',\n",
       " 'ca_anurag_bansal',\n",
       " 'theyumyumdiary',\n",
       " 'firehouseofficially',\n",
       " 'akesh5353',\n",
       " 'pskpraneeth',\n",
       " 'talim7120',\n",
       " 'arjun_542',\n",
       " 'legend_boi_008',\n",
       " 'thefoodfinder21',\n",
       " 'official_sumit_joshi6376_',\n",
       " 'rkambitious',\n",
       " '_tarunaa_',\n",
       " 'sandhiya_smurf',\n",
       " 'vjayprabakar',\n",
       " 'xoxomazumka',\n",
       " 'ritika.suneja',\n",
       " 'shankarsinghaniya',\n",
       " 'vishsayz',\n",
       " 'goodfoodnurture',\n",
       " 'itsalishka1854',\n",
       " 'theahmadmnasir',\n",
       " 'anubhutinagpal',\n",
       " '_head__over_meals_',\n",
       " 'food_deparment',\n",
       " 'priya.poddar',\n",
       " 'hetvi_adroja',\n",
       " 'foodgram.hyd',\n",
       " 'suhasini.6',\n",
       " 'akki_8017',\n",
       " 'nishthadubey',\n",
       " 'abeer_abdulla25',\n",
       " 'odiastockmarket',\n",
       " 'nikitannagpal',\n",
       " 'nibbidoll',\n",
       " 'thepixiedustblog',\n",
       " '_chubby___cheeks__',\n",
       " 'aceburgers.in',\n",
       " 'ruhul_amin_faruquee',\n",
       " 'theclassyoutfitcollection',\n",
       " 'realm_e97',\n",
       " 'pushkarsingh_16',\n",
       " 'sweeetcaro_10',\n",
       " 'creation_arts_____',\n",
       " 'sidhantkapoor31',\n",
       " 'gigs_pvt',\n",
       " 'shubh.singhal.9256',\n",
       " 'neelkamalbirdi',\n",
       " 'ektara2050',\n",
       " 'trillionaireliffeeeee',\n",
       " 'gagan_kukreja',\n",
       " 'shradhag_13',\n",
       " 'kapilmorolia',\n",
       " 'dhruvika_midha',\n",
       " 'am_i_reyan',\n",
       " 'rohidas1951',\n",
       " 'nisha.kakumanu.chadha',\n",
       " 'jeffmduma',\n",
       " 'aanvi.k',\n",
       " 'arjunpgupta',\n",
       " 'arpita__naidu',\n",
       " 'shahbazhashmisayyed',\n",
       " 'rickmortyfanclub__',\n",
       " 'hostel.santamaria',\n",
       " 'yogii_arora',\n",
       " 'anubha0103',\n",
       " 'razzaqstylez',\n",
       " 'satyendra_rai_29',\n",
       " 'sai.vijayendra',\n",
       " 'sawrabhchauhan',\n",
       " 'key_making_jafari',\n",
       " 'mealministers',\n",
       " 'mridul0105',\n",
       " 'manoj07bhadri',\n",
       " 'theclickosaurus',\n",
       " 'nimu_pindolia',\n",
       " 'beermalikk',\n",
       " 'irabajpai_',\n",
       " 'ablahnari',\n",
       " 'krishkakkar_',\n",
       " 'monginishyderabad',\n",
       " 'simranjain_sj',\n",
       " 'rohitsharma9179',\n",
       " 'nightlifetrails',\n",
       " 'isha_jain_03',\n",
       " 'priyankamehra1',\n",
       " 'kartikey_sharma06',\n",
       " 'manahuja',\n",
       " 'oye_badmash',\n",
       " 'kumpawat.purna',\n",
       " 'minochagauri3',\n",
       " 'avikadiwan',\n",
       " 'shrpah',\n",
       " 'maimunnisha2021',\n",
       " 'luhsna',\n",
       " 'roshnipadhye_',\n",
       " 'jassal_singh_13_22',\n",
       " 'villotale',\n",
       " 'deadline_killer_boy',\n",
       " 'the_nostalgic__guy',\n",
       " 'somedamnfood',\n",
       " 'dhananjitkather',\n",
       " 'aaru_sharma5678',\n",
       " '0fficial.abhishek__',\n",
       " 'saha.ra3106',\n",
       " 'chandni_lakhani',\n",
       " 'afshanadlakha',\n",
       " 'dr___adeeb',\n",
       " 'thecellarbytrippygoat',\n",
       " 'hrishav_lc_15',\n",
       " 'asfiasrecipejournal',\n",
       " 'naina24057',\n",
       " 'its_par_na',\n",
       " 'ojasvini.sharma',\n",
       " 'mr_comrade_boy_2004',\n",
       " 'rup.j_assam',\n",
       " 'jnjagadish',\n",
       " 'shiv._s.s',\n",
       " 'kare.akash',\n",
       " 'suhradtiffinservice',\n",
       " 'online_shopping_reseller',\n",
       " 'ranj.an403',\n",
       " 'tasty_bite_tiffin',\n",
       " 'patelhitaxihimanshu',\n",
       " 'vishwas.dongare.710',\n",
       " 'mr.aadil_53',\n",
       " 'raj65_23',\n",
       " 'punithan11',\n",
       " 'nikh.ilkumar727785',\n",
       " 's_a_m__shaikh_0313',\n",
       " 'aananyabanaik',\n",
       " 'ghungru_',\n",
       " 'singhfatehgarhia740',\n",
       " 'gurkirat.randhawa.7140',\n",
       " '__unique_.soul__',\n",
       " 'urvaz.k',\n",
       " 'daud_yt1',\n",
       " 'eathealthyfiber',\n",
       " 'haren_negi',\n",
       " 'paints_on_hands',\n",
       " 'sonu____virk',\n",
       " 'its_abhishek__420',\n",
       " 'manimaan_708',\n",
       " '31ravi786',\n",
       " 'topknotandkeys',\n",
       " 'saurabhmishra845',\n",
       " 'redsandholidays',\n",
       " 'kunwarpal.singh.3705157',\n",
       " '_the_foodygirl_',\n",
       " 'somkuwar.durgesh',\n",
       " 'drerwrows',\n",
       " 'veereshkumarj',\n",
       " 'satya._aryan',\n",
       " 'arhaanmalik5714',\n",
       " 'moments_n_cakes',\n",
       " 'vib231o',\n",
       " 'adesh.sharma6415',\n",
       " 'thealbingilani',\n",
       " 'asiyanameghakitchen',\n",
       " 'ariya_n314',\n",
       " 'restroom_singer',\n",
       " 'berbieomondi',\n",
       " 'saharanranishnishu',\n",
       " 'potahto.potayto',\n",
       " 'yashgarg305',\n",
       " 'bloggermumbaifood',\n",
       " 'diya_chotlani',\n",
       " 'albatrosses.10',\n",
       " 'dadakhondke',\n",
       " 'aenashac',\n",
       " 'eshna.3',\n",
       " 'mohammed_alawwady.06',\n",
       " 'sakshis_world',\n",
       " '_deep_patel_14',\n",
       " 'karishma2215',\n",
       " 'gamer_boys1990',\n",
       " 'satvik_gogiaaaaa',\n",
       " 'write2vivek86',\n",
       " 'foodiemona',\n",
       " 'kairav4705',\n",
       " 'chholayind',\n",
       " 'mothsmoke999',\n",
       " '_gauravkhanna',\n",
       " 'dimpy_._375',\n",
       " 'singh2000jagjeet',\n",
       " 'jinnve',\n",
       " 'hassan_canadian',\n",
       " 'rcfoods2020',\n",
       " 'kavitasingh8754',\n",
       " 'tushar_tannan',\n",
       " 'lostraipurian',\n",
       " 'muskaangoel',\n",
       " 'otb2009',\n",
       " 'zufar5451',\n",
       " 'gslabana',\n",
       " 'smj_paint_me_in',\n",
       " 'sonyramlal',\n",
       " 'rohitk307_',\n",
       " 'gtyredr',\n",
       " 'baba_guru847',\n",
       " 'arpitupadhyay70',\n",
       " 'mrghostbasu',\n",
       " 'shubham_gohil',\n",
       " 'pratiiibhaaaa',\n",
       " 'metallicthriftstore',\n",
       " 'shreyakasana',\n",
       " 'supremebazaar_',\n",
       " 'daud_zehen_10k',\n",
       " 'sp__diary_8291',\n",
       " 'rowdyrups',\n",
       " 'manifoldbrandstudio',\n",
       " 'mb_suthar_interior.designers',\n",
       " 'vfood.lover',\n",
       " 'surajdhawale358',\n",
       " 'chadhaishu',\n",
       " 'sana_parveen17496',\n",
       " 'evamitra30',\n",
       " 'indoripetha',\n",
       " 'mr__rohittt__ak47',\n",
       " 'bsnagraj123.nbd',\n",
       " 'ta_run6795',\n",
       " 'mayankdhingra9',\n",
       " 'ali_shadsouza',\n",
       " 'angeloneofficiyl',\n",
       " 'attalurishivalakshmi',\n",
       " 'guptaliza_15',\n",
       " 'rafeeah_rs',\n",
       " 'ajitpal_singh_pannu',\n",
       " 'aman.bajaj_',\n",
       " 'rishwin.fj',\n",
       " 'sachinanilmishra',\n",
       " 'nakulbhatia',\n",
       " 'nikhilyadav005',\n",
       " 'artiawasthi_',\n",
       " 'jaidevvv',\n",
       " 'productgraphybyvipin',\n",
       " 'i_u5hmita.g',\n",
       " 'adarsh_saraf',\n",
       " 's_stinder_',\n",
       " 'smiling_repose',\n",
       " 'akanshathisside',\n",
       " 'bhatia_',\n",
       " 'vaibhavguptax',\n",
       " 'ashish.khanchandani',\n",
       " 'fotowizards82',\n",
       " 'kumaramit3632',\n",
       " 'iamhnair',\n",
       " 'basic_knoledge',\n",
       " 'adv_sharmaji',\n",
       " 'vinaaykgndde',\n",
       " 'chefmohamed.kassem',\n",
       " '__shweeeta__',\n",
       " 'vijjaayyaa',\n",
       " 'aditi_ait',\n",
       " 'kiccha__sudeepa_fans__karnatak',\n",
       " 'calacaari_',\n",
       " 'snowman_29_',\n",
       " 'san__thiyaa_',\n",
       " 'mv_trade_banknifty_nifty',\n",
       " 'sphinx_pulkit',\n",
       " 'zuhas_kitchen',\n",
       " 'auxport.in',\n",
       " '_craftsandcreation_',\n",
       " 'sayali_tk',\n",
       " 'dalalstreetdhandha',\n",
       " 'exaucee_468',\n",
       " 'kiran_tiwari9',\n",
       " 'ashwariya_gupta',\n",
       " 'nishchay.17',\n",
       " 'priyesh.tewari',\n",
       " 'raverss_club',\n",
       " 'pooja_bidhuri5',\n",
       " 'mynameis_nishant',\n",
       " 'lalitsmarty_',\n",
       " 'chawareprince',\n",
       " 'guptashreyaa',\n",
       " 'pdf_advertising',\n",
       " 'skrehan0707',\n",
       " 'tript_i90',\n",
       " 'sanhaarora',\n",
       " 'shilpaxavierjohn',\n",
       " 'cinnamon_____toast',\n",
       " 'kunwar_devang_rajput',\n",
       " 'faizan_khan_bolte_80',\n",
       " 'chatorigullybyshams',\n",
       " 'trivandrumofferzone',\n",
       " 'salu1_525',\n",
       " 'nangare.patil1013',\n",
       " 'adit__777__8',\n",
       " '_shivanii.singh_',\n",
       " 'nxtdoorchennai',\n",
       " 'samiksha3216',\n",
       " 'anushkacreates',\n",
       " 'chithuchannel',\n",
       " 'yuvika_luthra',\n",
       " 'riiaaaa20',\n",
       " 'jagdish.raika.96199344',\n",
       " 'aniket25khanna',\n",
       " 'derasuniverse',\n",
       " 'chefabhishekgupta',\n",
       " 'sentha.heng',\n",
       " 'celebsspots',\n",
       " 'montyk159',\n",
       " 'pushtiindia',\n",
       " 'zaarenamunaz',\n",
       " 'oyehoyechaap',\n",
       " 'naw8dkha3.29',\n",
       " 'sapadshala',\n",
       " 'nitishanand47',\n",
       " 'amrendra.ravi',\n",
       " 'bansalkeshav408',\n",
       " 'saurabh_14497',\n",
       " 'ymmh4650',\n",
       " '_sneha_rj',\n",
       " 'aadhaar_sewa_kendra_noida',\n",
       " '_zeel_88',\n",
       " 'memayankagarwal',\n",
       " 'vishal__pb_06',\n",
       " 'nnagu1188',\n",
       " 'sasta_bazar1234',\n",
       " 'absu_india',\n",
       " '___chain_smoker_._',\n",
       " 'sakshimijgule39',\n",
       " 'kukshi_print_78',\n",
       " 'the_foodie_sisters_55',\n",
       " 'leena_mogres_fitness_',\n",
       " 'pestrocucinarestro',\n",
       " 'kanikamalhotra007',\n",
       " 'latish_kaur',\n",
       " 'shuchii_goel',\n",
       " 'my.food.cravings____',\n",
       " 'foodistaan_love_for_food',\n",
       " 'murecai5',\n",
       " 'shahi_dastarkhwan_01',\n",
       " 'aashu202118',\n",
       " 'aijaz.k2r',\n",
       " 'faissal_lo',\n",
       " 'couplecontent18',\n",
       " 'indian_foodblogs',\n",
       " 'nandini10mahendra00',\n",
       " 'interestingfacts2104',\n",
       " 'ah.priyakumawat',\n",
       " 'keshavramdev',\n",
       " 'sesami.mumbai',\n",
       " 'foodfan0000',\n",
       " 'nov.ian.961',\n",
       " 'tfhindia',\n",
       " 'tazeenfoodhub_',\n",
       " 'va_ma_minal_memes',\n",
       " 'hennapunjabi',\n",
       " 'dhankani.satish',\n",
       " 'veeliketoeat',\n",
       " 'sakshi2323__']"
      ]
     },
     "execution_count": 252,
     "metadata": {},
     "output_type": "execute_result"
    }
   ],
   "source": [
    "while True:\n",
    "    try:\n",
    "        foodtalkindia=[]\n",
    "        count=0\n",
    "        while True:\n",
    "            elements=driver.find_elements_by_xpath('//a[contains(@class, \"notranslate\")]')\n",
    "            if len(elements)<500:\n",
    "                waiter=WebDriverWait(driver, 10).until(EC.presence_of_element_located((By.XPATH, '//ul[contains(@class, \"jSC57\")]')))\n",
    "                driver.execute_script('arguments[0].scrollIntoView(0, 100);', driver.find_element_by_xpath('//ul[contains(@class, \"jSC57\")]'))\n",
    "                time.sleep(0.8)\n",
    "            i=elements[count]\n",
    "            foodtalkindia.append(i.get_attribute('innerHTML'))\n",
    "            if len(foodtalkindia)>=500:\n",
    "                break\n",
    "            count+=1\n",
    "        break\n",
    "    except StaleElementReferenceException:\n",
    "        continue\n",
    "\n",
    "# waiter=WebDriverWait(driver, 10).until(EC.presence_of_element_located((By.CLASS_NAME, \"glyphsSpriteX__outline__24__grey_9\")))\n",
    "foodtalkindia\n"
   ]
  },
  {
   "cell_type": "code",
   "execution_count": 253,
   "id": "1ed784d3",
   "metadata": {},
   "outputs": [],
   "source": [
    "driver.find_element(By.XPATH,'/html/body/div[6]/div/div/div[1]/div/div[2]/button').click()\n",
    "waiter = WebDriverWait(driver,10).until(EC.presence_of_element_located((By.XPATH,'//*[@id=\"react-root\"]/section/nav/div[2]/div/div/div[3]/div/div[6]/span/img')))"
   ]
  },
  {
   "cell_type": "markdown",
   "id": "2e22902a",
   "metadata": {},
   "source": [
    "# checking the follwers of foodtalkindia that i follow and those dont follow me.\n",
    "I use foodtalkindia follwers list from above question than i extract my following list extarct common username and than extract my follower list check if these are not present in my follower list if not present than print otherwise not"
   ]
  },
  {
   "cell_type": "code",
   "execution_count": 254,
   "id": "9f579554",
   "metadata": {},
   "outputs": [],
   "source": [
    "driver.find_element(By.XPATH,'//*[@id=\"react-root\"]/section/nav/div[2]/div/div/div[3]/div/div[6]/span/img').click()\n",
    "waiter = WebDriverWait(driver,10).until(EC.presence_of_element_located((By.LINK_TEXT,'Profile')))"
   ]
  },
  {
   "cell_type": "code",
   "execution_count": 255,
   "id": "7dca397a",
   "metadata": {},
   "outputs": [],
   "source": [
    "driver.find_element(By.LINK_TEXT,'Profile').click()\n",
    "waiter = WebDriverWait(driver,10).until(EC.presence_of_element_located((By.XPATH,'//a[@class=\"-nal3 \"]/span')))"
   ]
  },
  {
   "cell_type": "code",
   "execution_count": 257,
   "id": "73f046b3",
   "metadata": {},
   "outputs": [
    {
     "name": "stderr",
     "output_type": "stream",
     "text": [
      "<ipython-input-257-38763dbb5b32>:1: DeprecationWarning: find_elements_by_* commands are deprecated. Please use find_elements() instead\n",
      "  total_following=int(driver.find_elements_by_xpath('//a[@class=\"-nal3 \"]/span')[1].get_attribute('innerHTML'))\n",
      "<ipython-input-257-38763dbb5b32>:2: DeprecationWarning: find_elements_by_* commands are deprecated. Please use find_elements() instead\n",
      "  driver.find_elements_by_xpath('//a[@class=\"-nal3 \"]/span[@class=\"g47SY \"]')[1].click()\n"
     ]
    }
   ],
   "source": [
    "total_following=int(driver.find_elements_by_xpath('//a[@class=\"-nal3 \"]/span')[1].get_attribute('innerHTML'))\n",
    "driver.find_elements_by_xpath('//a[@class=\"-nal3 \"]/span[@class=\"g47SY \"]')[1].click()\n",
    "waiter = WebDriverWait(driver,10).until(EC.presence_of_element_located((By.XPATH,'//a[contains(@class, \"notranslate\")]')))"
   ]
  },
  {
   "cell_type": "code",
   "execution_count": 258,
   "id": "719ab402",
   "metadata": {},
   "outputs": [
    {
     "name": "stderr",
     "output_type": "stream",
     "text": [
      "<ipython-input-258-78a1b7080658>:6: DeprecationWarning: find_elements_by_* commands are deprecated. Please use find_elements() instead\n",
      "  elements=driver.find_elements_by_xpath('//a[contains(@class, \"notranslate\")]')\n",
      "<ipython-input-258-78a1b7080658>:9: DeprecationWarning: find_element_by_* commands are deprecated. Please use find_element() instead\n",
      "  driver.execute_script('arguments[0].scrollIntoView(0, 100);', driver.find_element_by_xpath('//ul[contains(@class, \"jSC57\")]'))\n"
     ]
    },
    {
     "ename": "IndexError",
     "evalue": "list index out of range",
     "output_type": "error",
     "traceback": [
      "\u001b[1;31m---------------------------------------------------------------------------\u001b[0m",
      "\u001b[1;31mIndexError\u001b[0m                                Traceback (most recent call last)",
      "\u001b[1;32m<ipython-input-258-78a1b7080658>\u001b[0m in \u001b[0;36m<module>\u001b[1;34m\u001b[0m\n\u001b[0;32m      9\u001b[0m                 \u001b[0mdriver\u001b[0m\u001b[1;33m.\u001b[0m\u001b[0mexecute_script\u001b[0m\u001b[1;33m(\u001b[0m\u001b[1;34m'arguments[0].scrollIntoView(0, 100);'\u001b[0m\u001b[1;33m,\u001b[0m \u001b[0mdriver\u001b[0m\u001b[1;33m.\u001b[0m\u001b[0mfind_element_by_xpath\u001b[0m\u001b[1;33m(\u001b[0m\u001b[1;34m'//ul[contains(@class, \"jSC57\")]'\u001b[0m\u001b[1;33m)\u001b[0m\u001b[1;33m)\u001b[0m\u001b[1;33m\u001b[0m\u001b[1;33m\u001b[0m\u001b[0m\n\u001b[0;32m     10\u001b[0m                 \u001b[0mtime\u001b[0m\u001b[1;33m.\u001b[0m\u001b[0msleep\u001b[0m\u001b[1;33m(\u001b[0m\u001b[1;36m0.8\u001b[0m\u001b[1;33m)\u001b[0m\u001b[1;33m\u001b[0m\u001b[1;33m\u001b[0m\u001b[0m\n\u001b[1;32m---> 11\u001b[1;33m             \u001b[0mi\u001b[0m\u001b[1;33m=\u001b[0m\u001b[0melements\u001b[0m\u001b[1;33m[\u001b[0m\u001b[0mcount\u001b[0m\u001b[1;33m]\u001b[0m\u001b[1;33m\u001b[0m\u001b[1;33m\u001b[0m\u001b[0m\n\u001b[0m\u001b[0;32m     12\u001b[0m             \u001b[0mfollowing\u001b[0m\u001b[1;33m.\u001b[0m\u001b[0mappend\u001b[0m\u001b[1;33m(\u001b[0m\u001b[0mi\u001b[0m\u001b[1;33m.\u001b[0m\u001b[0mget_attribute\u001b[0m\u001b[1;33m(\u001b[0m\u001b[1;34m'innerHTML'\u001b[0m\u001b[1;33m)\u001b[0m\u001b[1;33m)\u001b[0m\u001b[1;33m\u001b[0m\u001b[1;33m\u001b[0m\u001b[0m\n\u001b[0;32m     13\u001b[0m             \u001b[1;32mif\u001b[0m \u001b[0mlen\u001b[0m\u001b[1;33m(\u001b[0m\u001b[0mfollowing\u001b[0m\u001b[1;33m)\u001b[0m\u001b[1;33m==\u001b[0m\u001b[0mtotal_following\u001b[0m\u001b[1;33m:\u001b[0m\u001b[1;33m\u001b[0m\u001b[1;33m\u001b[0m\u001b[0m\n",
      "\u001b[1;31mIndexError\u001b[0m: list index out of range"
     ]
    }
   ],
   "source": [
    "while True:\n",
    "    try:\n",
    "        following=[]\n",
    "        count=0\n",
    "        while True:\n",
    "            elements=driver.find_elements_by_xpath('//a[contains(@class, \"notranslate\")]')\n",
    "            if len(elements)<total_following:\n",
    "                waiter=WebDriverWait(driver, 10).until(EC.presence_of_element_located((By.XPATH, '//ul[contains(@class, \"jSC57\")]')))\n",
    "                driver.execute_script('arguments[0].scrollIntoView(0, 100);', driver.find_element_by_xpath('//ul[contains(@class, \"jSC57\")]'))\n",
    "                time.sleep(0.8)\n",
    "            i=elements[count]\n",
    "            following.append(i.get_attribute('innerHTML'))\n",
    "            if len(following)==total_following:\n",
    "                break\n",
    "            count+=1\n",
    "        break\n",
    "    except StaleElementReferenceException:\n",
    "        continue\n",
    "        \n",
    "following"
   ]
  },
  {
   "cell_type": "code",
   "execution_count": null,
   "id": "84beec43",
   "metadata": {},
   "outputs": [],
   "source": [
    "driver.find_element(By.XPATH,'/html/body/div[6]/div/div/div[1]/div/div[2]/button').click()\n",
    "waiter = WebDriverWait(driver,10).until(EC.presence_of_element_located((By.XPATH,'//a[@class=\"-nal3 \"]/span[@class=\"g47SY \"]')))"
   ]
  },
  {
   "cell_type": "code",
   "execution_count": null,
   "id": "2fd9fa81",
   "metadata": {},
   "outputs": [],
   "source": [
    "total_followers=int(driver.find_element_by_xpath('//a[@class=\"-nal3 \"]/span[@class=\"g47SY \"]').get_attribute('innerHTML'))\n",
    "driver.find_element_by_xpath('//a[@class=\"-nal3 \"]/span[@class=\"g47SY \"]').click()\n",
    "waiter = WebDriverWait(driver,10).until(EC.presence_of_element_located((By.XPATH,'//a[contains(@class, \"notranslate\")]')))"
   ]
  },
  {
   "cell_type": "code",
   "execution_count": null,
   "id": "f6113da0",
   "metadata": {},
   "outputs": [],
   "source": [
    "while True:\n",
    "    try:\n",
    "        myfollowers=[]\n",
    "        count=0\n",
    "        while True:\n",
    "            elements=driver.find_elements_by_xpath('//a[contains(@class, \"notranslate\")]')\n",
    "            if len(elements)<total_followers:\n",
    "                waiter=WebDriverWait(driver, 10).until(EC.presence_of_element_located((By.XPATH, '//ul[contains(@class, \"jSC57\")]')))\n",
    "                driver.execute_script('arguments[0].scrollIntoView(0, 100);', driver.find_element_by_xpath('//ul[contains(@class, \"jSC57\")]'))\n",
    "                time.sleep(0.8)\n",
    "            i=elements[count]\n",
    "            myfollowers.append(i.get_attribute('innerHTML'))\n",
    "            if len(myfollowers)==total_followers:\n",
    "                break\n",
    "            count+=1\n",
    "        break\n",
    "    except StaleElementReferenceException:\n",
    "        continue\n",
    "        \n",
    "myfollowers"
   ]
  },
  {
   "cell_type": "code",
   "execution_count": null,
   "id": "ff82be74",
   "metadata": {},
   "outputs": [],
   "source": [
    "following=set(following)\n",
    "myfollowers=set(myfollowers)\n",
    "foodtalkindia=set(foodtalkindia)\n",
    "followers_of_foodtalkindia_that_i_am_following= following.intersection(foodtalkindia)\n",
    "print('Given below is a set of all the followers of “foodtalkindia” that I am following but those who don’t follow me.')\n",
    "if len(followers_of_foodtalkindia_that_i_am_following-myfollowers)==0:\n",
    "    print(\"--->No such followers\")\n",
    "for i in followers_of_foodtalkindia_that_i_am_following-myfollowers:\n",
    "    print(i)\n",
    "waiter = WebDriverWait(driver,10).until(EC.presence_of_element_located((By.XPATH,'/html/body/div[6]/div/div/div[1]/div/div[2]/button')))"
   ]
  },
  {
   "cell_type": "code",
   "execution_count": null,
   "id": "a6389b97",
   "metadata": {},
   "outputs": [],
   "source": [
    "driver.find_element(By.XPATH,'/html/body/div[6]/div/div/div[1]/div/div[2]/button').click()\n",
    "waiter = WebDriverWait(driver,10).until(EC.presence_of_element_located((By.CLASS_NAME,'pbgfb')))"
   ]
  },
  {
   "cell_type": "markdown",
   "id": "cb9ef888",
   "metadata": {},
   "source": [
    "# Visting coding ninjas and see the story"
   ]
  },
  {
   "cell_type": "code",
   "execution_count": null,
   "id": "a27ae4d6",
   "metadata": {},
   "outputs": [],
   "source": [
    "search_box = driver.find_element_by_class_name(\"pbgfb\").click()\n",
    "waiter = WebDriverWait(driver,10).until(EC.presence_of_element_located((By.CLASS_NAME,\"XTCLo.x3qfX\")))"
   ]
  },
  {
   "cell_type": "code",
   "execution_count": null,
   "id": "b02b0136",
   "metadata": {},
   "outputs": [],
   "source": [
    "search_box = driver.find_element_by_class_name(\"XTCLo.x3qfX\")\n",
    "search_box.send_keys(\"coding.ninjas\")\n",
    "waiter = WebDriverWait(driver,10).until(EC.presence_of_element_located((By.CLASS_NAME,'-qQT3')))\n"
   ]
  },
  {
   "cell_type": "code",
   "execution_count": null,
   "id": "141b8101",
   "metadata": {},
   "outputs": [],
   "source": [
    "driver.find_element_by_class_name(\"-qQT3\").click()\n",
    "time.sleep(3)"
   ]
  },
  {
   "cell_type": "code",
   "execution_count": null,
   "id": "97a708aa",
   "metadata": {},
   "outputs": [],
   "source": [
    "try:\n",
    "    if int(driver.find_element_by_xpath('//div[contains(@class, \"h5uC0\")]/canvas').get_attribute('height'))==168:\n",
    "        print('You have not seen the story yet! The story will be shown to you now. check out the driver window')\n",
    "        driver.find_element_by_xpath('//div[contains(@class, \"h5uC0\")]').click()\n",
    "    elif int(driver.find_element_by_xpath('//div[contains(@class, \"h5uC0\")]/canvas').get_attribute('height'))==166:\n",
    "        print('You have already seen the story!')\n",
    "except NoSuchElementException:\n",
    "    print('The user has no story!')"
   ]
  }
 ],
 "metadata": {
  "kernelspec": {
   "display_name": "Python 3",
   "language": "python",
   "name": "python3"
  },
  "language_info": {
   "codemirror_mode": {
    "name": "ipython",
    "version": 3
   },
   "file_extension": ".py",
   "mimetype": "text/x-python",
   "name": "python",
   "nbconvert_exporter": "python",
   "pygments_lexer": "ipython3",
   "version": "3.8.8"
  }
 },
 "nbformat": 4,
 "nbformat_minor": 5
}
