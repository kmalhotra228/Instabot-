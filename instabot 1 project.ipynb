{
 "cells": [
  {
   "cell_type": "markdown",
   "id": "40826908",
   "metadata": {},
   "source": [
    "# Instructions\n",
    "1) Add your username and password before running the code.\n",
    "2) Run the all the code in one go.\n",
    "3) Add your webdriver path before running the code.\n",
    "4) It take time so sit back and relax."
   ]
  },
  {
   "cell_type": "markdown",
   "id": "4546db77",
   "metadata": {},
   "source": [
    "# Importing all important libraries"
   ]
  },
  {
   "cell_type": "code",
   "execution_count": 221,
   "id": "ac5b8c8c",
   "metadata": {},
   "outputs": [],
   "source": [
    "from selenium import webdriver\n",
    "from selenium.webdriver.common.keys import Keys\n",
    "import time\n",
    "from selenium.common.exceptions import NoSuchElementException\n",
    "from selenium.common.exceptions import ElementNotInteractableException\n",
    "from selenium.common.exceptions import StaleElementReferenceException\n",
    "from selenium.common.exceptions import TimeoutException\n",
    "from selenium.webdriver.support.ui import WebDriverWait\n",
    "from selenium.webdriver.support import expected_conditions as EC\n",
    "from selenium.webdriver.common.by import By\n",
    "from selenium.webdriver.support.select import Select"
   ]
  },
  {
   "cell_type": "markdown",
   "id": "c4c98f31",
   "metadata": {},
   "source": [
    "# Open Chrome Webdriver"
   ]
  },
  {
   "cell_type": "code",
   "execution_count": 222,
   "id": "9d888df6",
   "metadata": {},
   "outputs": [],
   "source": [
    "# ***********open the webdriver through these commands***********\n",
    "from selenium.webdriver.chrome.service import Service\n",
    "s = Service('/Users/ADMIN/.wdm/drivers/chromedriver/win32/95.0.4638.69/chromedriver.exe')\n",
    "driver = webdriver.Chrome(service = s)\n",
    "# you can add your web driver location"
   ]
  },
  {
   "cell_type": "markdown",
   "id": "12704442",
   "metadata": {},
   "source": [
    "# Visit Instagram "
   ]
  },
  {
   "cell_type": "code",
   "execution_count": 223,
   "id": "0b05bc00",
   "metadata": {},
   "outputs": [],
   "source": [
    "driver.get(\"https://www.instagram.com/\")\n",
    "driver.maximize_window()\n",
    "waiter = WebDriverWait(driver,10).until(EC.presence_of_element_located((By.NAME,\"username\")))"
   ]
  },
  {
   "cell_type": "code",
   "execution_count": null,
   "id": "af846c42",
   "metadata": {},
   "outputs": [],
   "source": [
    "SAMPLE_USERNAME = ''\n",
    "SAMPLE_PASSWORD = ''\n",
    "username_locate = driver.find_element_by_name('username')\n",
    "username_locate.send_keys(SAMPLE_USERNAME)\n",
    "password_locate = driver.find_element_by_name('password')\n",
    "password_locate.send_keys(SAMPLE_PASSWORD)\n",
    "driver.find_element_by_xpath('//*[@id=\"loginForm\"]/div/div[3]').click()\n",
    "waiter = WebDriverWait(driver,10).until(EC.presence_of_element_located((By.CLASS_NAME,'cmbtv')))\n"
   ]
  },
  {
   "cell_type": "markdown",
   "id": "07623475",
   "metadata": {},
   "source": [
    "# Save your login info"
   ]
  },
  {
   "cell_type": "code",
   "execution_count": 225,
   "id": "8fd2fb1e",
   "metadata": {},
   "outputs": [
    {
     "name": "stderr",
     "output_type": "stream",
     "text": [
      "<ipython-input-225-99dec4f41042>:1: DeprecationWarning: find_element_by_* commands are deprecated. Please use find_element() instead\n",
      "  driver.find_element_by_class_name('cmbtv').click()\n"
     ]
    }
   ],
   "source": [
    "driver.find_element_by_class_name('cmbtv').click()\n",
    "waiter = WebDriverWait(driver,10).until(EC.presence_of_element_located((By.CLASS_NAME,\"aOOlW.HoLwm\")))"
   ]
  },
  {
   "cell_type": "code",
   "execution_count": 226,
   "id": "c32d22e5",
   "metadata": {},
   "outputs": [
    {
     "name": "stderr",
     "output_type": "stream",
     "text": [
      "<ipython-input-226-24324b0d2e63>:1: DeprecationWarning: find_element_by_* commands are deprecated. Please use find_element() instead\n",
      "  driver.find_element_by_class_name('aOOlW.HoLwm').click()\n"
     ]
    }
   ],
   "source": [
    "driver.find_element_by_class_name('aOOlW.HoLwm').click()\n",
    "waiter = WebDriverWait(driver,10).until(EC.presence_of_element_located((By.CLASS_NAME,'pbgfb')))"
   ]
  },
  {
   "cell_type": "markdown",
   "id": "2c7237de",
   "metadata": {},
   "source": [
    "# Enabling The search box for input"
   ]
  },
  {
   "cell_type": "code",
   "execution_count": 227,
   "id": "10c1ceaa",
   "metadata": {},
   "outputs": [
    {
     "name": "stderr",
     "output_type": "stream",
     "text": [
      "<ipython-input-227-5496befb0cc4>:1: DeprecationWarning: find_element_by_* commands are deprecated. Please use find_element() instead\n",
      "  search_box = driver.find_element_by_class_name(\"pbgfb\").click()\n"
     ]
    }
   ],
   "source": [
    "search_box = driver.find_element_by_class_name(\"pbgfb\").click()\n",
    "waiter = WebDriverWait(driver,10).until(EC.presence_of_element_located((By.CLASS_NAME,\"XTCLo.x3qfX\")))"
   ]
  },
  {
   "cell_type": "markdown",
   "id": "e8c3e5a6",
   "metadata": {},
   "source": [
    "# Search food in Search Box"
   ]
  },
  {
   "cell_type": "code",
   "execution_count": 228,
   "id": "7aabca22",
   "metadata": {},
   "outputs": [
    {
     "name": "stderr",
     "output_type": "stream",
     "text": [
      "<ipython-input-228-c603a504cd35>:1: DeprecationWarning: find_element_by_* commands are deprecated. Please use find_element() instead\n",
      "  search_box = driver.find_element_by_class_name(\"XTCLo.x3qfX\")\n"
     ]
    }
   ],
   "source": [
    "search_box = driver.find_element_by_class_name(\"XTCLo.x3qfX\")\n",
    "search_box.send_keys(\"food\")"
   ]
  },
  {
   "cell_type": "markdown",
   "id": "33f3d197",
   "metadata": {},
   "source": [
    "# Print all instahandles when searched for FOOD"
   ]
  },
  {
   "cell_type": "code",
   "execution_count": 229,
   "id": "e8161b6a",
   "metadata": {},
   "outputs": [
    {
     "name": "stderr",
     "output_type": "stream",
     "text": [
      "<ipython-input-229-e89fd32bca00>:1: DeprecationWarning: find_elements_by_* commands are deprecated. Please use find_elements() instead\n",
      "  x = driver.find_elements_by_class_name('_7UhW9.xLCgt.qyrsm.KV-D4.uL8Hv')\n"
     ]
    }
   ],
   "source": [
    "x = driver.find_elements_by_class_name('_7UhW9.xLCgt.qyrsm.KV-D4.uL8Hv')\n",
    "for i in x:\n",
    "    if i.get_attribute('innerHTML')[0] != '#':\n",
    "        print(i.get_attribute('innerHTML'))\n",
    "waiter = WebDriverWait(driver,10).until(EC.presence_of_element_located((By.CLASS_NAME,\"aIYm8.coreSpriteSearchClear\")))"
   ]
  },
  {
   "cell_type": "code",
   "execution_count": 230,
   "id": "9d9b249a",
   "metadata": {},
   "outputs": [
    {
     "name": "stderr",
     "output_type": "stream",
     "text": [
      "<ipython-input-230-fc195566f8a5>:1: DeprecationWarning: find_element_by_* commands are deprecated. Please use find_element() instead\n",
      "  driver.find_element_by_class_name(\"aIYm8.coreSpriteSearchClear\").click()\n"
     ]
    }
   ],
   "source": [
    "driver.find_element_by_class_name(\"aIYm8.coreSpriteSearchClear\").click()"
   ]
  },
  {
   "cell_type": "markdown",
   "id": "506a8acd",
   "metadata": {},
   "source": [
    "# Enabling the Search Box"
   ]
  },
  {
   "cell_type": "code",
   "execution_count": 231,
   "id": "66bc7c57",
   "metadata": {},
   "outputs": [
    {
     "name": "stderr",
     "output_type": "stream",
     "text": [
      "<ipython-input-231-5496befb0cc4>:1: DeprecationWarning: find_element_by_* commands are deprecated. Please use find_element() instead\n",
      "  search_box = driver.find_element_by_class_name(\"pbgfb\").click()\n"
     ]
    }
   ],
   "source": [
    "search_box = driver.find_element_by_class_name(\"pbgfb\").click()\n",
    "waiter = WebDriverWait(driver,10).until(EC.presence_of_element_located((By.CLASS_NAME,\"XTCLo.x3qfX\")))"
   ]
  },
  {
   "cell_type": "markdown",
   "id": "1bfa2fec",
   "metadata": {},
   "source": [
    "# Searching and Enabling Profile of \"So Delhi\""
   ]
  },
  {
   "cell_type": "code",
   "execution_count": 232,
   "id": "cca83d4e",
   "metadata": {},
   "outputs": [
    {
     "name": "stderr",
     "output_type": "stream",
     "text": [
      "<ipython-input-232-f2c68564b0b7>:1: DeprecationWarning: find_element_by_* commands are deprecated. Please use find_element() instead\n",
      "  search_box = driver.find_element_by_class_name(\"XTCLo.x3qfX\")\n"
     ]
    }
   ],
   "source": [
    "search_box = driver.find_element_by_class_name(\"XTCLo.x3qfX\")\n",
    "search_box.send_keys(\"So Delhi\")\n",
    "waiter = WebDriverWait(driver,10).until(EC.presence_of_element_located((By.CLASS_NAME,'-qQT3')))"
   ]
  },
  {
   "cell_type": "code",
   "execution_count": 233,
   "id": "5fd0b647",
   "metadata": {},
   "outputs": [
    {
     "name": "stderr",
     "output_type": "stream",
     "text": [
      "<ipython-input-233-faa1950d7f07>:1: DeprecationWarning: find_element_by_* commands are deprecated. Please use find_element() instead\n",
      "  driver.find_element_by_class_name(\"-qQT3\").click()\n"
     ]
    }
   ],
   "source": [
    "driver.find_element_by_class_name(\"-qQT3\").click()\n",
    "time.sleep(3)"
   ]
  },
  {
   "cell_type": "markdown",
   "id": "b810c52e",
   "metadata": {},
   "source": [
    "# Following So Delhi"
   ]
  },
  {
   "cell_type": "code",
   "execution_count": 234,
   "id": "83d12e7a",
   "metadata": {},
   "outputs": [
    {
     "name": "stdout",
     "output_type": "stream",
     "text": [
      "You already Following profile!\n"
     ]
    },
    {
     "name": "stderr",
     "output_type": "stream",
     "text": [
      "<ipython-input-234-4280fc0b8627>:1: DeprecationWarning: find_element_by_* commands are deprecated. Please use find_element() instead\n",
      "  if driver.find_element_by_xpath(\"//span[@class ='vBF20 _1OSdk']/button\").get_attribute('innerHTML') == \"Follow\":\n"
     ]
    }
   ],
   "source": [
    "if driver.find_element_by_xpath(\"//span[@class ='vBF20 _1OSdk']/button\").get_attribute('innerHTML') == \"Follow\":\n",
    "    driver.find_element_by_xpath('//*[@id=\"react-root\"]/section/main/div/header/section/div[1]/div[1]/div/div/div/span/span[1]/button').click()\n",
    "else:\n",
    "    print(\"You already Following profile!\")\n",
    "    \n"
   ]
  },
  {
   "cell_type": "markdown",
   "id": "a066b0ba",
   "metadata": {},
   "source": [
    "# Unfollowing the So Delhi"
   ]
  },
  {
   "cell_type": "code",
   "execution_count": 235,
   "id": "55ad2177",
   "metadata": {},
   "outputs": [
    {
     "name": "stderr",
     "output_type": "stream",
     "text": [
      "<ipython-input-235-f2b96e5ed55e>:1: DeprecationWarning: find_element_by_* commands are deprecated. Please use find_element() instead\n",
      "  if driver.find_element_by_xpath(\"//span[@class ='vBF20 _1OSdk']/button\").get_attribute('innerHTML') == \"Follow\":\n",
      "<ipython-input-235-f2b96e5ed55e>:4: DeprecationWarning: find_element_by_* commands are deprecated. Please use find_element() instead\n",
      "  driver.find_element_by_xpath('//*[@id=\"react-root\"]/section/main/div/header/section/div[1]/div[1]/div/div[2]/div/span/span[1]/button').click()\n",
      "<ipython-input-235-f2b96e5ed55e>:6: DeprecationWarning: find_element_by_* commands are deprecated. Please use find_element() instead\n",
      "  driver.find_element_by_xpath('/html/body/div[6]/div/div/div/div[3]/button[1]').click()\n"
     ]
    }
   ],
   "source": [
    "if driver.find_element_by_xpath(\"//span[@class ='vBF20 _1OSdk']/button\").get_attribute('innerHTML') == \"Follow\":\n",
    "    print(\"You already unfollow the profile!\")\n",
    "else:\n",
    "    driver.find_element_by_xpath('//*[@id=\"react-root\"]/section/main/div/header/section/div[1]/div[1]/div/div[2]/div/span/span[1]/button').click()\n",
    "    time.sleep(2)\n",
    "    driver.find_element_by_xpath('/html/body/div[6]/div/div/div/div[3]/button[1]').click()\n",
    "    "
   ]
  },
  {
   "cell_type": "markdown",
   "id": "5940e100",
   "metadata": {},
   "source": [
    "# Enable Search Box"
   ]
  },
  {
   "cell_type": "code",
   "execution_count": 236,
   "id": "972d3331",
   "metadata": {},
   "outputs": [
    {
     "name": "stderr",
     "output_type": "stream",
     "text": [
      "<ipython-input-236-5496befb0cc4>:1: DeprecationWarning: find_element_by_* commands are deprecated. Please use find_element() instead\n",
      "  search_box = driver.find_element_by_class_name(\"pbgfb\").click()\n"
     ]
    }
   ],
   "source": [
    "search_box = driver.find_element_by_class_name(\"pbgfb\").click()\n",
    "waiter = WebDriverWait(driver,10).until(EC.presence_of_element_located((By.CLASS_NAME,\"XTCLo.x3qfX\")))"
   ]
  },
  {
   "cell_type": "markdown",
   "id": "366f0aab",
   "metadata": {},
   "source": [
    "# Searching profile \"dilsefoodie\""
   ]
  },
  {
   "cell_type": "code",
   "execution_count": 237,
   "id": "298a7980",
   "metadata": {},
   "outputs": [
    {
     "name": "stderr",
     "output_type": "stream",
     "text": [
      "<ipython-input-237-0cc791f4c151>:1: DeprecationWarning: find_element_by_* commands are deprecated. Please use find_element() instead\n",
      "  search_box = driver.find_element_by_class_name(\"XTCLo.x3qfX\")\n"
     ]
    }
   ],
   "source": [
    "search_box = driver.find_element_by_class_name(\"XTCLo.x3qfX\")\n",
    "search_box.send_keys(\"dilsefoodie\")\n",
    "waiter = WebDriverWait(driver,10).until(EC.presence_of_element_located((By.CLASS_NAME,'-qQT3')))\n"
   ]
  },
  {
   "cell_type": "code",
   "execution_count": 238,
   "id": "02b438c8",
   "metadata": {},
   "outputs": [
    {
     "name": "stderr",
     "output_type": "stream",
     "text": [
      "<ipython-input-238-faa1950d7f07>:1: DeprecationWarning: find_element_by_* commands are deprecated. Please use find_element() instead\n",
      "  driver.find_element_by_class_name(\"-qQT3\").click()\n"
     ]
    }
   ],
   "source": [
    "driver.find_element_by_class_name(\"-qQT3\").click()\n",
    "time.sleep(3)"
   ]
  },
  {
   "cell_type": "markdown",
   "id": "94cca2b4",
   "metadata": {},
   "source": [
    "# Scrolling for loading elements"
   ]
  },
  {
   "cell_type": "code",
   "execution_count": 239,
   "id": "5bd23a38",
   "metadata": {},
   "outputs": [],
   "source": [
    "# scrolling 5 times to load atleast 30 elemnets\n",
    "for i in range(5):\n",
    "    driver.execute_script('window.scrollTo(0,document.body.scrollHeight);')\n",
    "    time.sleep(2)\n",
    "# go on top of page after scrolling the element\n",
    "driver.execute_script('window.scrollTo(0,-(document.body.scrollHeight));')\n",
    "waiter = WebDriverWait(driver,10).until(EC.presence_of_element_located((By.CLASS_NAME,'_9AhH0')))"
   ]
  },
  {
   "cell_type": "markdown",
   "id": "7f67a055",
   "metadata": {},
   "source": [
    "# Liking top 30 Photos of \"dilsefoodie\""
   ]
  },
  {
   "cell_type": "code",
   "execution_count": null,
   "id": "d2da6e30",
   "metadata": {},
   "outputs": [],
   "source": [
    "all_photos = driver.find_elements_by_class_name('_9AhH0')\n",
    "count = 0\n",
    "for photo in all_photos:\n",
    "    photo.click()\n",
    "    time.sleep(3)\n",
    "    try:\n",
    "        element = driver.find_element_by_xpath('/html/body/div[6]/div[2]/div/article/div/div[2]/div/div/div[2]/section[1]/span[1]/button/div[2]/span')\n",
    "        element.click()\n",
    "    except NoSuchElementException:\n",
    "        print('Already Liked!')\n",
    "    driver.back()\n",
    "    count += 1\n",
    "    if count == 30:\n",
    "        print(\"Liked All 30!\")\n",
    "        break\n",
    "driver.execute_script('window.scrollTo(0,0);')"
   ]
  },
  {
   "cell_type": "markdown",
   "id": "02a9f46f",
   "metadata": {},
   "source": [
    "# Unliking Top 30 photos of \"dilsefoodie\""
   ]
  },
  {
   "cell_type": "code",
   "execution_count": null,
   "id": "f6c6442e",
   "metadata": {},
   "outputs": [],
   "source": [
    "all_photos = driver.find_elements_by_class_name('_9AhH0')\n",
    "count = 0\n",
    "for photo in all_photos:\n",
    "    photo.click()\n",
    "    time.sleep(3)\n",
    "    if 'Unlike' in driver.find_element(By.CLASS_NAME,'fr66n').get_attribute('innerHTML'):\n",
    "        driver.find_element(By.CLASS_NAME,'fr66n').click()\n",
    "    else:\n",
    "        print('Already UnLiked!')\n",
    "        \n",
    "    driver.back()\n",
    "    count += 1\n",
    "    if count == 30:\n",
    "        print(\"unliked all 30!\")\n",
    "        break\n",
    "driver.execute_script(\"window.scrollTo(0,0)\")\n"
   ]
  },
  {
   "cell_type": "markdown",
   "id": "8179cfd3",
   "metadata": {},
   "source": [
    "# Enabling search and searching For So Delhi and open profile"
   ]
  },
  {
   "cell_type": "code",
   "execution_count": 242,
   "id": "a2bdcf8f",
   "metadata": {},
   "outputs": [
    {
     "name": "stderr",
     "output_type": "stream",
     "text": [
      "<ipython-input-242-5496befb0cc4>:1: DeprecationWarning: find_element_by_* commands are deprecated. Please use find_element() instead\n",
      "  search_box = driver.find_element_by_class_name(\"pbgfb\").click()\n"
     ]
    }
   ],
   "source": [
    "search_box = driver.find_element_by_class_name(\"pbgfb\").click()\n",
    "waiter = WebDriverWait(driver,10).until(EC.presence_of_element_located((By.CLASS_NAME,\"XTCLo.x3qfX\")))"
   ]
  },
  {
   "cell_type": "code",
   "execution_count": 243,
   "id": "a585a83e",
   "metadata": {},
   "outputs": [
    {
     "name": "stderr",
     "output_type": "stream",
     "text": [
      "<ipython-input-243-f2c68564b0b7>:1: DeprecationWarning: find_element_by_* commands are deprecated. Please use find_element() instead\n",
      "  search_box = driver.find_element_by_class_name(\"XTCLo.x3qfX\")\n"
     ]
    }
   ],
   "source": [
    "search_box = driver.find_element_by_class_name(\"XTCLo.x3qfX\")\n",
    "search_box.send_keys(\"So Delhi\")\n",
    "waiter = WebDriverWait(driver,10).until(EC.presence_of_element_located((By.CLASS_NAME,'-qQT3')))\n"
   ]
  },
  {
   "cell_type": "code",
   "execution_count": 244,
   "id": "b5ffe757",
   "metadata": {},
   "outputs": [
    {
     "name": "stderr",
     "output_type": "stream",
     "text": [
      "<ipython-input-244-faa1950d7f07>:1: DeprecationWarning: find_element_by_* commands are deprecated. Please use find_element() instead\n",
      "  driver.find_element_by_class_name(\"-qQT3\").click()\n"
     ]
    }
   ],
   "source": [
    "driver.find_element_by_class_name(\"-qQT3\").click()\n",
    "time.sleep(3)"
   ]
  },
  {
   "cell_type": "markdown",
   "id": "4b95e6e1",
   "metadata": {},
   "source": [
    "# Extracting first 500 followers of \"So Delhi\""
   ]
  },
  {
   "cell_type": "code",
   "execution_count": 245,
   "id": "ac26cd77",
   "metadata": {},
   "outputs": [
    {
     "name": "stderr",
     "output_type": "stream",
     "text": [
      "<ipython-input-245-84160e454363>:3: DeprecationWarning: find_element_by_* commands are deprecated. Please use find_element() instead\n",
      "  driver.find_element_by_xpath('//a[@class=\"-nal3 \"]/span[@class=\"g47SY \"]').click()\n"
     ]
    }
   ],
   "source": [
    "try:\n",
    "    driver.execute_script('window.scrollTo(0, 0)')\n",
    "    driver.find_element_by_xpath('//a[@class=\"-nal3 \"]/span[@class=\"g47SY \"]').click()\n",
    "except NoSuchElementException:\n",
    "    driver.find_element_by_xpath('//a[@class=\" _81NM2\"]/span[contains(@class, \"g47SY\")]').click()\n",
    "waiter=WebDriverWait(driver, 10).until(EC.presence_of_element_located((By.XPATH, '//a[contains(@class, \"notranslate\")]')))"
   ]
  },
  {
   "cell_type": "code",
   "execution_count": null,
   "id": "4a7064d6",
   "metadata": {},
   "outputs": [],
   "source": [
    "while True:\n",
    "    try:\n",
    "        sodelhi=[]\n",
    "        count=0\n",
    "        while True:\n",
    "            elements=driver.find_elements_by_xpath('//a[contains(@class, \"notranslate\")]')\n",
    "            if len(elements)<500:\n",
    "                waiter=WebDriverWait(driver, 10).until(EC.presence_of_element_located((By.XPATH, '//ul[contains(@class, \"jSC57\")]')))\n",
    "                driver.execute_script('arguments[0].scrollIntoView(0, 100);', driver.find_element_by_xpath('//ul[contains(@class, \"jSC57\")]'))\n",
    "                time.sleep(0.8)\n",
    "            i=elements[count]\n",
    "            sodelhi.append(i.get_attribute('innerHTML'))\n",
    "            if len(sodelhi)>=500:\n",
    "                break\n",
    "            count+=1\n",
    "        break\n",
    "    except StaleElementReferenceException:\n",
    "        continue\n",
    "sodelhi\n",
    "\n"
   ]
  },
  {
   "cell_type": "code",
   "execution_count": 247,
   "id": "d3b9210f",
   "metadata": {},
   "outputs": [],
   "source": [
    "driver.find_element(By.XPATH,'/html/body/div[6]/div/div/div[1]/div/div[2]/button').click()\n",
    "waiter = WebDriverWait(driver,10).until(EC.presence_of_element_located((By.CLASS_NAME,'pbgfb')))"
   ]
  },
  {
   "cell_type": "markdown",
   "id": "6164ae66",
   "metadata": {},
   "source": [
    "# Enabling Searching and Search for \"foodtalkindia\" "
   ]
  },
  {
   "cell_type": "code",
   "execution_count": 248,
   "id": "c9c2d7d5",
   "metadata": {},
   "outputs": [
    {
     "name": "stderr",
     "output_type": "stream",
     "text": [
      "<ipython-input-248-5496befb0cc4>:1: DeprecationWarning: find_element_by_* commands are deprecated. Please use find_element() instead\n",
      "  search_box = driver.find_element_by_class_name(\"pbgfb\").click()\n"
     ]
    }
   ],
   "source": [
    "search_box = driver.find_element_by_class_name(\"pbgfb\").click()\n",
    "waiter = WebDriverWait(driver,10).until(EC.presence_of_element_located((By.CLASS_NAME,\"XTCLo.x3qfX\")))"
   ]
  },
  {
   "cell_type": "code",
   "execution_count": 249,
   "id": "af8d1ae0",
   "metadata": {},
   "outputs": [
    {
     "name": "stderr",
     "output_type": "stream",
     "text": [
      "<ipython-input-249-524861a94438>:1: DeprecationWarning: find_element_by_* commands are deprecated. Please use find_element() instead\n",
      "  search_box = driver.find_element_by_class_name(\"XTCLo.x3qfX\")\n"
     ]
    }
   ],
   "source": [
    "search_box = driver.find_element_by_class_name(\"XTCLo.x3qfX\")\n",
    "search_box.send_keys(\"foodtalkindia\")\n",
    "waiter = WebDriverWait(driver,10).until(EC.presence_of_element_located((By.CLASS_NAME,'-qQT3')))"
   ]
  },
  {
   "cell_type": "code",
   "execution_count": 250,
   "id": "c565c860",
   "metadata": {},
   "outputs": [
    {
     "name": "stderr",
     "output_type": "stream",
     "text": [
      "<ipython-input-250-faa1950d7f07>:1: DeprecationWarning: find_element_by_* commands are deprecated. Please use find_element() instead\n",
      "  driver.find_element_by_class_name(\"-qQT3\").click()\n"
     ]
    }
   ],
   "source": [
    "driver.find_element_by_class_name(\"-qQT3\").click()\n",
    "time.sleep(3)"
   ]
  },
  {
   "cell_type": "code",
   "execution_count": 251,
   "id": "29f99eb2",
   "metadata": {},
   "outputs": [
    {
     "name": "stderr",
     "output_type": "stream",
     "text": [
      "<ipython-input-251-84160e454363>:3: DeprecationWarning: find_element_by_* commands are deprecated. Please use find_element() instead\n",
      "  driver.find_element_by_xpath('//a[@class=\"-nal3 \"]/span[@class=\"g47SY \"]').click()\n"
     ]
    }
   ],
   "source": [
    "try:\n",
    "    driver.execute_script('window.scrollTo(0, 0)')\n",
    "    driver.find_element_by_xpath('//a[@class=\"-nal3 \"]/span[@class=\"g47SY \"]').click()\n",
    "except NoSuchElementException:\n",
    "    driver.find_element_by_xpath('//a[@class=\" _81NM2\"]/span[contains(@class, \"g47SY\")]').click()\n",
    "waiter=WebDriverWait(driver, 10).until(EC.presence_of_element_located((By.XPATH, '//a[contains(@class, \"notranslate\")]')))"
   ]
  },
  {
   "cell_type": "code",
   "execution_count": null,
   "id": "32e0ae32",
   "metadata": {},
   "outputs": [],
   "source": [
    "while True:\n",
    "    try:\n",
    "        foodtalkindia=[]\n",
    "        count=0\n",
    "        while True:\n",
    "            elements=driver.find_elements_by_xpath('//a[contains(@class, \"notranslate\")]')\n",
    "            if len(elements)<500:\n",
    "                waiter=WebDriverWait(driver, 10).until(EC.presence_of_element_located((By.XPATH, '//ul[contains(@class, \"jSC57\")]')))\n",
    "                driver.execute_script('arguments[0].scrollIntoView(0, 100);', driver.find_element_by_xpath('//ul[contains(@class, \"jSC57\")]'))\n",
    "                time.sleep(0.8)\n",
    "            i=elements[count]\n",
    "            foodtalkindia.append(i.get_attribute('innerHTML'))\n",
    "            if len(foodtalkindia)>=500:\n",
    "                break\n",
    "            count+=1\n",
    "        break\n",
    "    except StaleElementReferenceException:\n",
    "        continue\n",
    "\n",
    "# waiter=WebDriverWait(driver, 10).until(EC.presence_of_element_located((By.CLASS_NAME, \"glyphsSpriteX__outline__24__grey_9\")))\n",
    "foodtalkindia\n"
   ]
  },
  {
   "cell_type": "code",
   "execution_count": 253,
   "id": "1ed784d3",
   "metadata": {},
   "outputs": [],
   "source": [
    "driver.find_element(By.XPATH,'/html/body/div[6]/div/div/div[1]/div/div[2]/button').click()\n",
    "waiter = WebDriverWait(driver,10).until(EC.presence_of_element_located((By.XPATH,'//*[@id=\"react-root\"]/section/nav/div[2]/div/div/div[3]/div/div[6]/span/img')))"
   ]
  },
  {
   "cell_type": "markdown",
   "id": "2e22902a",
   "metadata": {},
   "source": [
    "# checking the follwers of foodtalkindia that i follow and those dont follow me.\n",
    "I use foodtalkindia follwers list from above question than i extract my following list extarct common username and than extract my follower list check if these are not present in my follower list if not present than print otherwise not"
   ]
  },
  {
   "cell_type": "code",
   "execution_count": 254,
   "id": "9f579554",
   "metadata": {},
   "outputs": [],
   "source": [
    "driver.find_element(By.XPATH,'//*[@id=\"react-root\"]/section/nav/div[2]/div/div/div[3]/div/div[6]/span/img').click()\n",
    "waiter = WebDriverWait(driver,10).until(EC.presence_of_element_located((By.LINK_TEXT,'Profile')))"
   ]
  },
  {
   "cell_type": "code",
   "execution_count": 255,
   "id": "7dca397a",
   "metadata": {},
   "outputs": [],
   "source": [
    "driver.find_element(By.LINK_TEXT,'Profile').click()\n",
    "waiter = WebDriverWait(driver,10).until(EC.presence_of_element_located((By.XPATH,'//a[@class=\"-nal3 \"]/span')))"
   ]
  },
  {
   "cell_type": "code",
   "execution_count": 257,
   "id": "73f046b3",
   "metadata": {},
   "outputs": [
    {
     "name": "stderr",
     "output_type": "stream",
     "text": [
      "<ipython-input-257-38763dbb5b32>:1: DeprecationWarning: find_elements_by_* commands are deprecated. Please use find_elements() instead\n",
      "  total_following=int(driver.find_elements_by_xpath('//a[@class=\"-nal3 \"]/span')[1].get_attribute('innerHTML'))\n",
      "<ipython-input-257-38763dbb5b32>:2: DeprecationWarning: find_elements_by_* commands are deprecated. Please use find_elements() instead\n",
      "  driver.find_elements_by_xpath('//a[@class=\"-nal3 \"]/span[@class=\"g47SY \"]')[1].click()\n"
     ]
    }
   ],
   "source": [
    "total_following=int(driver.find_elements_by_xpath('//a[@class=\"-nal3 \"]/span')[1].get_attribute('innerHTML'))\n",
    "driver.find_elements_by_xpath('//a[@class=\"-nal3 \"]/span[@class=\"g47SY \"]')[1].click()\n",
    "waiter = WebDriverWait(driver,10).until(EC.presence_of_element_located((By.XPATH,'//a[contains(@class, \"notranslate\")]')))"
   ]
  },
  {
   "cell_type": "code",
   "execution_count": null,
   "id": "719ab402",
   "metadata": {},
   "outputs": [],
   "source": [
    "while True:\n",
    "    try:\n",
    "        following=[]\n",
    "        count=0\n",
    "        while True:\n",
    "            elements=driver.find_elements_by_xpath('//a[contains(@class, \"notranslate\")]')\n",
    "            if len(elements)<total_following:\n",
    "                waiter=WebDriverWait(driver, 10).until(EC.presence_of_element_located((By.XPATH, '//ul[contains(@class, \"jSC57\")]')))\n",
    "                driver.execute_script('arguments[0].scrollIntoView(0, 100);', driver.find_element_by_xpath('//ul[contains(@class, \"jSC57\")]'))\n",
    "                time.sleep(0.8)\n",
    "            i=elements[count]\n",
    "            following.append(i.get_attribute('innerHTML'))\n",
    "            if len(following)==total_following:\n",
    "                break\n",
    "            count+=1\n",
    "        break\n",
    "    except StaleElementReferenceException:\n",
    "        continue\n",
    "        \n",
    "following"
   ]
  },
  {
   "cell_type": "code",
   "execution_count": null,
   "id": "84beec43",
   "metadata": {},
   "outputs": [],
   "source": [
    "driver.find_element(By.XPATH,'/html/body/div[6]/div/div/div[1]/div/div[2]/button').click()\n",
    "waiter = WebDriverWait(driver,10).until(EC.presence_of_element_located((By.XPATH,'//a[@class=\"-nal3 \"]/span[@class=\"g47SY \"]')))"
   ]
  },
  {
   "cell_type": "code",
   "execution_count": null,
   "id": "2fd9fa81",
   "metadata": {},
   "outputs": [],
   "source": [
    "total_followers=int(driver.find_element_by_xpath('//a[@class=\"-nal3 \"]/span[@class=\"g47SY \"]').get_attribute('innerHTML'))\n",
    "driver.find_element_by_xpath('//a[@class=\"-nal3 \"]/span[@class=\"g47SY \"]').click()\n",
    "waiter = WebDriverWait(driver,10).until(EC.presence_of_element_located((By.XPATH,'//a[contains(@class, \"notranslate\")]')))"
   ]
  },
  {
   "cell_type": "code",
   "execution_count": null,
   "id": "f6113da0",
   "metadata": {},
   "outputs": [],
   "source": [
    "while True:\n",
    "    try:\n",
    "        myfollowers=[]\n",
    "        count=0\n",
    "        while True:\n",
    "            elements=driver.find_elements_by_xpath('//a[contains(@class, \"notranslate\")]')\n",
    "            if len(elements)<total_followers:\n",
    "                waiter=WebDriverWait(driver, 10).until(EC.presence_of_element_located((By.XPATH, '//ul[contains(@class, \"jSC57\")]')))\n",
    "                driver.execute_script('arguments[0].scrollIntoView(0, 100);', driver.find_element_by_xpath('//ul[contains(@class, \"jSC57\")]'))\n",
    "                time.sleep(0.8)\n",
    "            i=elements[count]\n",
    "            myfollowers.append(i.get_attribute('innerHTML'))\n",
    "            if len(myfollowers)==total_followers:\n",
    "                break\n",
    "            count+=1\n",
    "        break\n",
    "    except StaleElementReferenceException:\n",
    "        continue\n",
    "        \n",
    "myfollowers"
   ]
  },
  {
   "cell_type": "code",
   "execution_count": null,
   "id": "ff82be74",
   "metadata": {},
   "outputs": [],
   "source": [
    "following=set(following)\n",
    "myfollowers=set(myfollowers)\n",
    "foodtalkindia=set(foodtalkindia)\n",
    "followers_of_foodtalkindia_that_i_am_following= following.intersection(foodtalkindia)\n",
    "print('Given below is a set of all the followers of “foodtalkindia” that I am following but those who don’t follow me.')\n",
    "if len(followers_of_foodtalkindia_that_i_am_following-myfollowers)==0:\n",
    "    print(\"--->No such followers\")\n",
    "for i in followers_of_foodtalkindia_that_i_am_following-myfollowers:\n",
    "    print(i)\n",
    "waiter = WebDriverWait(driver,10).until(EC.presence_of_element_located((By.XPATH,'/html/body/div[6]/div/div/div[1]/div/div[2]/button')))"
   ]
  },
  {
   "cell_type": "code",
   "execution_count": null,
   "id": "a6389b97",
   "metadata": {},
   "outputs": [],
   "source": [
    "driver.find_element(By.XPATH,'/html/body/div[6]/div/div/div[1]/div/div[2]/button').click()\n",
    "waiter = WebDriverWait(driver,10).until(EC.presence_of_element_located((By.CLASS_NAME,'pbgfb')))"
   ]
  },
  {
   "cell_type": "markdown",
   "id": "cb9ef888",
   "metadata": {},
   "source": [
    "# Visting coding ninjas and see the story"
   ]
  },
  {
   "cell_type": "code",
   "execution_count": null,
   "id": "a27ae4d6",
   "metadata": {},
   "outputs": [],
   "source": [
    "search_box = driver.find_element_by_class_name(\"pbgfb\").click()\n",
    "waiter = WebDriverWait(driver,10).until(EC.presence_of_element_located((By.CLASS_NAME,\"XTCLo.x3qfX\")))"
   ]
  },
  {
   "cell_type": "code",
   "execution_count": null,
   "id": "b02b0136",
   "metadata": {},
   "outputs": [],
   "source": [
    "search_box = driver.find_element_by_class_name(\"XTCLo.x3qfX\")\n",
    "search_box.send_keys(\"coding.ninjas\")\n",
    "waiter = WebDriverWait(driver,10).until(EC.presence_of_element_located((By.CLASS_NAME,'-qQT3')))\n"
   ]
  },
  {
   "cell_type": "code",
   "execution_count": null,
   "id": "141b8101",
   "metadata": {},
   "outputs": [],
   "source": [
    "driver.find_element_by_class_name(\"-qQT3\").click()\n",
    "time.sleep(3)"
   ]
  },
  {
   "cell_type": "code",
   "execution_count": null,
   "id": "97a708aa",
   "metadata": {},
   "outputs": [],
   "source": [
    "try:\n",
    "    if int(driver.find_element_by_xpath('//div[contains(@class, \"h5uC0\")]/canvas').get_attribute('height'))==168:\n",
    "        print('You have not seen the story yet! The story will be shown to you now. check out the driver window')\n",
    "        driver.find_element_by_xpath('//div[contains(@class, \"h5uC0\")]').click()\n",
    "    elif int(driver.find_element_by_xpath('//div[contains(@class, \"h5uC0\")]/canvas').get_attribute('height'))==166:\n",
    "        print('You have already seen the story!')\n",
    "except NoSuchElementException:\n",
    "    print('The user has no story!')"
   ]
  }
 ],
 "metadata": {
  "kernelspec": {
   "display_name": "Python 3",
   "language": "python",
   "name": "python3"
  },
  "language_info": {
   "codemirror_mode": {
    "name": "ipython",
    "version": 3
   },
   "file_extension": ".py",
   "mimetype": "text/x-python",
   "name": "python",
   "nbconvert_exporter": "python",
   "pygments_lexer": "ipython3",
   "version": "3.8.8"
  }
 },
 "nbformat": 4,
 "nbformat_minor": 5
}
